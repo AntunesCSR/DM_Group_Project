{
 "cells": [
  {
   "cell_type": "code",
   "execution_count": 1,
   "metadata": {},
   "outputs": [],
   "source": [
    "import pandas as pd\n",
    "import numpy as np\n",
    "import matplotlib.pyplot as plt\n",
    "import seaborn as sns\n",
    "from mlxtend.frequent_patterns import apriori\n",
    "from mlxtend.preprocessing import TransactionEncoder\n",
    "import time\n",
    "import pickle\n",
    "import psutil"
   ]
  },
  {
   "cell_type": "code",
   "execution_count": 2,
   "metadata": {},
   "outputs": [],
   "source": [
    "#Read product names and IDs\n",
    "lines=open(\"products.txt\", \"rt\", encoding=\"utf8\").readlines()\n",
    "prod_dict={}\n",
    "products=[0]*len(lines)\n",
    "for lin in lines[1:]:\n",
    "    pid, pname, aid, did=lin.strip().split(\"\\t\")    \n",
    "    products[int(pid)]=pname\n",
    "    prod_dict[pid] = pname"
   ]
  },
  {
   "cell_type": "code",
   "execution_count": 3,
   "metadata": {},
   "outputs": [],
   "source": [
    "prods = products[1:]"
   ]
  },
  {
   "cell_type": "code",
   "execution_count": 4,
   "metadata": {},
   "outputs": [
    {
     "data": {
      "text/plain": [
       "'#read transactions\\nimport pickle\\norders=pickle.load(open(\"order_products.pickle\", \"rb\"))\\n\\n#check products on order 2:\\nfor prod in orders[2]: print(products[prod])'"
      ]
     },
     "execution_count": 4,
     "metadata": {},
     "output_type": "execute_result"
    }
   ],
   "source": [
    "\"\"\"#read transactions\n",
    "import pickle\n",
    "orders=pickle.load(open(\"order_products.pickle\", \"rb\"))\n",
    "\n",
    "#check products on order 2:\n",
    "for prod in orders[2]: print(products[prod])\"\"\""
   ]
  },
  {
   "cell_type": "code",
   "execution_count": 6,
   "metadata": {},
   "outputs": [],
   "source": [
    "# Load the transaction dataset from a pickle file\n",
    "with open(\"order_products.pickle\", \"rb\") as f:\n",
    "    orders = pickle.load(f)\n",
    "\n",
    "# Convert the transaction data into a list of lists\n",
    "orders_list = [list(order) for order in orders.values()]"
   ]
  },
  {
   "cell_type": "code",
   "execution_count": 7,
   "metadata": {},
   "outputs": [],
   "source": [
    "# Encode the transaction data as a binary matrix\n",
    "te = TransactionEncoder()\n",
    "te_ary = te.fit_transform(orders_list, sparse=True)"
   ]
  },
  {
   "cell_type": "code",
   "execution_count": 8,
   "metadata": {},
   "outputs": [],
   "source": [
    "df = pd.DataFrame.sparse.from_spmatrix(te_ary, columns=te.columns_)"
   ]
  },
  {
   "cell_type": "code",
   "execution_count": 9,
   "metadata": {},
   "outputs": [],
   "source": [
    "df.columns = [prod_dict[str(key)] for key in df.columns]"
   ]
  },
  {
   "cell_type": "code",
   "execution_count": 10,
   "metadata": {},
   "outputs": [
    {
     "name": "stdout",
     "output_type": "stream",
     "text": [
      "Size of orders 160.00009155273438 MB\n",
      "Size of orders_list 26.16533660888672 MB\n",
      "Size of te_ary 4.57763671875e-05 MB\n",
      "Size of product_dict 2.500091552734375 MB\n",
      "Size of products 0.379150390625 MB\n"
     ]
    }
   ],
   "source": [
    "from sys import getsizeof\n",
    "\n",
    "print(f\"Size of orders {getsizeof(orders)/1024/1024} MB\")\n",
    "print(f\"Size of orders_list {getsizeof(orders_list)/1024/1024} MB\")\n",
    "print(f\"Size of te_ary {getsizeof(te_ary)/1024/1024} MB\")\n",
    "print(f\"Size of product_dict {getsizeof(prod_dict)/1024/1024} MB\")\n",
    "print(f\"Size of products {getsizeof(products)/1024/1024} MB\")"
   ]
  },
  {
   "cell_type": "code",
   "execution_count": 11,
   "metadata": {},
   "outputs": [],
   "source": [
    "orders = None\n",
    "orders_list = None\n"
   ]
  },
  {
   "cell_type": "code",
   "execution_count": 12,
   "metadata": {},
   "outputs": [
    {
     "name": "stdout",
     "output_type": "stream",
     "text": [
      "Size of orders 1.52587890625e-05 MB\n",
      "Size of orders_list 1.52587890625e-05 MB\n"
     ]
    }
   ],
   "source": [
    "print(f\"Size of orders {getsizeof(orders)/1024/1024} MB\")\n",
    "print(f\"Size of orders_list {getsizeof(orders_list)/1024/1024} MB\")"
   ]
  },
  {
   "cell_type": "code",
   "execution_count": 18,
   "metadata": {},
   "outputs": [
    {
     "name": "stdout",
     "output_type": "stream",
     "text": [
      "0.1\n",
      "Minimum support: 0.100, Time: 1.455 s, FI Mem usage: 0.001MB, Total Mem usage: 1106.996MB\n",
      "Continue: True\n",
      "0.09000000000000001\n",
      "Minimum support: 0.090, Time: 1.005 s, FI Mem usage: 0.001MB, Total Mem usage: 1141.691MB\n",
      "Continue: True\n",
      "0.08000000000000002\n",
      "Minimum support: 0.080, Time: 1.035 s, FI Mem usage: 0.001MB, Total Mem usage: 1124.422MB\n",
      "Continue: True\n",
      "0.07000000000000002\n",
      "Minimum support: 0.070, Time: 1.009 s, FI Mem usage: 0.001MB, Total Mem usage: 1132.938MB\n",
      "Continue: True\n",
      "0.06000000000000002\n",
      "Minimum support: 0.060, Time: 1.085 s, FI Mem usage: 0.001MB, Total Mem usage: 1129.910MB\n",
      "Continue: True\n",
      "0.05000000000000002\n",
      "Minimum support: 0.050, Time: 1.059 s, FI Mem usage: 0.001MB, Total Mem usage: 1162.582MB\n",
      "Continue: True\n",
      "0.040000000000000015\n",
      "Minimum support: 0.040, Time: 1.191 s, FI Mem usage: 0.002MB, Total Mem usage: 1131.168MB\n",
      "Continue: True\n",
      "0.030000000000000013\n",
      "Minimum support: 0.030, Time: 1.282 s, FI Mem usage: 0.003MB, Total Mem usage: 1149.531MB\n",
      "Continue: True\n",
      "0.02000000000000001\n",
      "Minimum support: 0.020, Time: 1.893 s, FI Mem usage: 0.008MB, Total Mem usage: 1170.238MB\n",
      "Continue: True\n",
      "0.01000000000000001\n",
      "Minimum support: 0.010, Time: 9.134 s, FI Mem usage: 0.024MB, Total Mem usage: 1196.742MB\n",
      "Continue: False\n",
      "0.0009\n",
      "Minimum support: 0.001, Time: 5659.659 s, FI Mem usage: 0.936MB, Total Mem usage: 1230.812MB\n",
      "Continue: True\n",
      "0.0007999999999999999\n",
      "Minimum support: 0.001, Time: 5356.915 s, FI Mem usage: 1.101MB, Total Mem usage: 1261.453MB\n",
      "Continue: True\n",
      "0.0006999999999999999\n",
      "Minimum support: 0.001, Time: 7135.905 s, FI Mem usage: 1.338MB, Total Mem usage: 1270.957MB\n",
      "Continue: True\n",
      "0.0005999999999999998\n",
      "Minimum support: 0.001, Time: 42683.659 s, FI Mem usage: 1.668MB, Total Mem usage: 1272.340MB\n",
      "Continue: True\n",
      "Minimum support: 0.0004999999999999998 exceeded time limit\n"
     ]
    }
   ],
   "source": [
    "#Here is the main search for the minimum support, took hours to fully run. Don't run again.\n",
    "\n",
    "min_support = 0.0\n",
    "increment = 0.0\n",
    "max_time = 60*60*2 # 2 hours in seconds\n",
    "starting_support = [0.1, 0.01, 0.001, 0.0001, 0.00001]\n",
    "#starting_support = [0.1]\n",
    "cont = True\n",
    "\n",
    "#Creae and open a file to write the results\n",
    "with open(\"min_support2.txt\", \"w\") as f:\n",
    "    for i in range(len(starting_support)):\n",
    "        if round(min_support, 6) == 0.0:\n",
    "            min_support = starting_support[i]\n",
    "            increment = starting_support[i]/10\n",
    "            cont = True\n",
    "        else:\n",
    "            continue\n",
    "        while cont == True:\n",
    "            start_time = time.time()\n",
    "            frequent_itemsets = apriori(df, min_support=min_support, use_colnames=True, low_memory=True)\n",
    "            #Save the frequent itemsets to a csv file\n",
    "            frequent_itemsets.to_csv('frequent_itemsets3.csv', index=False)\n",
    "            end_time = time.time()\n",
    "            memory_usage = frequent_itemsets.memory_usage(deep=True).sum()\n",
    "            total_memory = psutil.virtual_memory().available\n",
    "            elapsed_time = end_time - start_time\n",
    "\n",
    "            #Record the results and save to file\n",
    "            f.write('Minimum support: {:.3f}, Time: {:.3f} s, FI Mem usage: {:.3f}MB, Total Mem usage: {:.3f}MB\\n'.format(min_support, elapsed_time, memory_usage/1024/1024, total_memory/1024/1024))\n",
    "            f.write(f\"{min_support}\\n\")\n",
    "            print('Minimum support: {:.3f}, Time: {:.3f} s, FI Mem usage: {:.3f}MB, Total Mem usage: {:.3f}MB'.format(min_support, elapsed_time, memory_usage/1024/1024, total_memory/1024/1024))\n",
    "            \n",
    "            min_support -= increment\n",
    "            if round(min_support, 6) == 0.0:\n",
    "                cont = False\n",
    "            \n",
    "            print(f\"Continue: {cont}\")\n",
    "            if elapsed_time > max_time:\n",
    "                print(f\"Minimum support: {min_support} exceeded time limit\")\n",
    "                break\n",
    "\n"
   ]
  },
  {
   "cell_type": "code",
   "execution_count": 19,
   "metadata": {},
   "outputs": [],
   "source": [
    "with open(\"min_support.txt\", \"r\") as f:    \n",
    "    #Store the lines in a list\n",
    "    lines = f.readlines()\n",
    "    #Get the last line without \\n\n",
    "    min_sup = float(lines[-1].rstrip())\n",
    "    print(f\"Minimum support: {min_sup}\")\n",
    "    \n",
    "    min_sups = [float(lines[i].split()[2].replace(',', '')) for i in range(0, len(lines), 2)]\n",
    "\n",
    "    times = [float(lines[i].split()[4].replace(',', '')) for i in range(0, len(lines), 2)]\n",
    "\n",
    "    mem_usage = [float(lines[i].split()[9].replace('MB,', '')) for i in range(0, len(lines), 2)]"
   ]
  },
  {
   "cell_type": "code",
   "execution_count": 70,
   "metadata": {},
   "outputs": [
    {
     "data": {
      "application/vnd.plotly.v1+json": {
       "config": {
        "plotlyServerURL": "https://plot.ly"
       },
       "data": [
        {
         "name": "Time",
         "type": "scatter",
         "x": [
          0.1,
          0.09,
          0.08,
          0.07,
          0.06,
          0.05,
          0.04,
          0.03,
          0.02,
          0.01,
          0.009,
          0.008,
          0.007,
          0.006,
          0.005,
          0.004,
          0.003,
          0.002,
          0.001,
          0.001,
          0.001,
          0.0007,
          0.0006
         ],
         "y": [
          1.006,
          0.983,
          0.997,
          1.023,
          1.035,
          1.067,
          1.188,
          1.303,
          1.908,
          10.335,
          12.876,
          16.878,
          22.958,
          33.4,
          49.857,
          93.349,
          212.875,
          640.154,
          3421.852,
          5659.659,
          5356.915,
          7135.905,
          36683.659
         ]
        },
        {
         "name": "Memory Usage",
         "type": "scatter",
         "x": [
          0.1,
          0.09,
          0.08,
          0.07,
          0.06,
          0.05,
          0.04,
          0.03,
          0.02,
          0.01,
          0.009,
          0.008,
          0.007,
          0.006,
          0.005,
          0.004,
          0.003,
          0.002,
          0.001,
          0.001,
          0.001,
          0.0007,
          0.0006
         ],
         "y": [
          0.001,
          0.001,
          0.001,
          0.001,
          0.001,
          0.001,
          0.002,
          0.003,
          0.008,
          0.024,
          0.029,
          0.033,
          0.04,
          0.052,
          0.067,
          0.1,
          0.162,
          0.294,
          0.8,
          0.936,
          1.101,
          1.338,
          1.668
         ],
         "yaxis": "y2"
        }
       ],
       "layout": {
        "template": {
         "data": {
          "bar": [
           {
            "error_x": {
             "color": "rgb(51,51,51)"
            },
            "error_y": {
             "color": "rgb(51,51,51)"
            },
            "marker": {
             "line": {
              "color": "rgb(237,237,237)",
              "width": 0.5
             },
             "pattern": {
              "fillmode": "overlay",
              "size": 10,
              "solidity": 0.2
             }
            },
            "type": "bar"
           }
          ],
          "barpolar": [
           {
            "marker": {
             "line": {
              "color": "rgb(237,237,237)",
              "width": 0.5
             },
             "pattern": {
              "fillmode": "overlay",
              "size": 10,
              "solidity": 0.2
             }
            },
            "type": "barpolar"
           }
          ],
          "carpet": [
           {
            "aaxis": {
             "endlinecolor": "rgb(51,51,51)",
             "gridcolor": "white",
             "linecolor": "white",
             "minorgridcolor": "white",
             "startlinecolor": "rgb(51,51,51)"
            },
            "baxis": {
             "endlinecolor": "rgb(51,51,51)",
             "gridcolor": "white",
             "linecolor": "white",
             "minorgridcolor": "white",
             "startlinecolor": "rgb(51,51,51)"
            },
            "type": "carpet"
           }
          ],
          "choropleth": [
           {
            "colorbar": {
             "outlinewidth": 0,
             "tickcolor": "rgb(237,237,237)",
             "ticklen": 6,
             "ticks": "inside"
            },
            "type": "choropleth"
           }
          ],
          "contour": [
           {
            "colorbar": {
             "outlinewidth": 0,
             "tickcolor": "rgb(237,237,237)",
             "ticklen": 6,
             "ticks": "inside"
            },
            "colorscale": [
             [
              0,
              "rgb(20,44,66)"
             ],
             [
              1,
              "rgb(90,179,244)"
             ]
            ],
            "type": "contour"
           }
          ],
          "contourcarpet": [
           {
            "colorbar": {
             "outlinewidth": 0,
             "tickcolor": "rgb(237,237,237)",
             "ticklen": 6,
             "ticks": "inside"
            },
            "type": "contourcarpet"
           }
          ],
          "heatmap": [
           {
            "colorbar": {
             "outlinewidth": 0,
             "tickcolor": "rgb(237,237,237)",
             "ticklen": 6,
             "ticks": "inside"
            },
            "colorscale": [
             [
              0,
              "rgb(20,44,66)"
             ],
             [
              1,
              "rgb(90,179,244)"
             ]
            ],
            "type": "heatmap"
           }
          ],
          "heatmapgl": [
           {
            "colorbar": {
             "outlinewidth": 0,
             "tickcolor": "rgb(237,237,237)",
             "ticklen": 6,
             "ticks": "inside"
            },
            "colorscale": [
             [
              0,
              "rgb(20,44,66)"
             ],
             [
              1,
              "rgb(90,179,244)"
             ]
            ],
            "type": "heatmapgl"
           }
          ],
          "histogram": [
           {
            "marker": {
             "pattern": {
              "fillmode": "overlay",
              "size": 10,
              "solidity": 0.2
             }
            },
            "type": "histogram"
           }
          ],
          "histogram2d": [
           {
            "colorbar": {
             "outlinewidth": 0,
             "tickcolor": "rgb(237,237,237)",
             "ticklen": 6,
             "ticks": "inside"
            },
            "colorscale": [
             [
              0,
              "rgb(20,44,66)"
             ],
             [
              1,
              "rgb(90,179,244)"
             ]
            ],
            "type": "histogram2d"
           }
          ],
          "histogram2dcontour": [
           {
            "colorbar": {
             "outlinewidth": 0,
             "tickcolor": "rgb(237,237,237)",
             "ticklen": 6,
             "ticks": "inside"
            },
            "colorscale": [
             [
              0,
              "rgb(20,44,66)"
             ],
             [
              1,
              "rgb(90,179,244)"
             ]
            ],
            "type": "histogram2dcontour"
           }
          ],
          "mesh3d": [
           {
            "colorbar": {
             "outlinewidth": 0,
             "tickcolor": "rgb(237,237,237)",
             "ticklen": 6,
             "ticks": "inside"
            },
            "type": "mesh3d"
           }
          ],
          "parcoords": [
           {
            "line": {
             "colorbar": {
              "outlinewidth": 0,
              "tickcolor": "rgb(237,237,237)",
              "ticklen": 6,
              "ticks": "inside"
             }
            },
            "type": "parcoords"
           }
          ],
          "pie": [
           {
            "automargin": true,
            "type": "pie"
           }
          ],
          "scatter": [
           {
            "fillpattern": {
             "fillmode": "overlay",
             "size": 10,
             "solidity": 0.2
            },
            "type": "scatter"
           }
          ],
          "scatter3d": [
           {
            "line": {
             "colorbar": {
              "outlinewidth": 0,
              "tickcolor": "rgb(237,237,237)",
              "ticklen": 6,
              "ticks": "inside"
             }
            },
            "marker": {
             "colorbar": {
              "outlinewidth": 0,
              "tickcolor": "rgb(237,237,237)",
              "ticklen": 6,
              "ticks": "inside"
             }
            },
            "type": "scatter3d"
           }
          ],
          "scattercarpet": [
           {
            "marker": {
             "colorbar": {
              "outlinewidth": 0,
              "tickcolor": "rgb(237,237,237)",
              "ticklen": 6,
              "ticks": "inside"
             }
            },
            "type": "scattercarpet"
           }
          ],
          "scattergeo": [
           {
            "marker": {
             "colorbar": {
              "outlinewidth": 0,
              "tickcolor": "rgb(237,237,237)",
              "ticklen": 6,
              "ticks": "inside"
             }
            },
            "type": "scattergeo"
           }
          ],
          "scattergl": [
           {
            "marker": {
             "colorbar": {
              "outlinewidth": 0,
              "tickcolor": "rgb(237,237,237)",
              "ticklen": 6,
              "ticks": "inside"
             }
            },
            "type": "scattergl"
           }
          ],
          "scattermapbox": [
           {
            "marker": {
             "colorbar": {
              "outlinewidth": 0,
              "tickcolor": "rgb(237,237,237)",
              "ticklen": 6,
              "ticks": "inside"
             }
            },
            "type": "scattermapbox"
           }
          ],
          "scatterpolar": [
           {
            "marker": {
             "colorbar": {
              "outlinewidth": 0,
              "tickcolor": "rgb(237,237,237)",
              "ticklen": 6,
              "ticks": "inside"
             }
            },
            "type": "scatterpolar"
           }
          ],
          "scatterpolargl": [
           {
            "marker": {
             "colorbar": {
              "outlinewidth": 0,
              "tickcolor": "rgb(237,237,237)",
              "ticklen": 6,
              "ticks": "inside"
             }
            },
            "type": "scatterpolargl"
           }
          ],
          "scatterternary": [
           {
            "marker": {
             "colorbar": {
              "outlinewidth": 0,
              "tickcolor": "rgb(237,237,237)",
              "ticklen": 6,
              "ticks": "inside"
             }
            },
            "type": "scatterternary"
           }
          ],
          "surface": [
           {
            "colorbar": {
             "outlinewidth": 0,
             "tickcolor": "rgb(237,237,237)",
             "ticklen": 6,
             "ticks": "inside"
            },
            "colorscale": [
             [
              0,
              "rgb(20,44,66)"
             ],
             [
              1,
              "rgb(90,179,244)"
             ]
            ],
            "type": "surface"
           }
          ],
          "table": [
           {
            "cells": {
             "fill": {
              "color": "rgb(237,237,237)"
             },
             "line": {
              "color": "white"
             }
            },
            "header": {
             "fill": {
              "color": "rgb(217,217,217)"
             },
             "line": {
              "color": "white"
             }
            },
            "type": "table"
           }
          ]
         },
         "layout": {
          "annotationdefaults": {
           "arrowhead": 0,
           "arrowwidth": 1
          },
          "autotypenumbers": "strict",
          "coloraxis": {
           "colorbar": {
            "outlinewidth": 0,
            "tickcolor": "rgb(237,237,237)",
            "ticklen": 6,
            "ticks": "inside"
           }
          },
          "colorscale": {
           "sequential": [
            [
             0,
             "rgb(20,44,66)"
            ],
            [
             1,
             "rgb(90,179,244)"
            ]
           ],
           "sequentialminus": [
            [
             0,
             "rgb(20,44,66)"
            ],
            [
             1,
             "rgb(90,179,244)"
            ]
           ]
          },
          "colorway": [
           "#F8766D",
           "#A3A500",
           "#00BF7D",
           "#00B0F6",
           "#E76BF3"
          ],
          "font": {
           "color": "rgb(51,51,51)"
          },
          "geo": {
           "bgcolor": "white",
           "lakecolor": "white",
           "landcolor": "rgb(237,237,237)",
           "showlakes": true,
           "showland": true,
           "subunitcolor": "white"
          },
          "hoverlabel": {
           "align": "left"
          },
          "hovermode": "closest",
          "paper_bgcolor": "white",
          "plot_bgcolor": "rgb(237,237,237)",
          "polar": {
           "angularaxis": {
            "gridcolor": "white",
            "linecolor": "white",
            "showgrid": true,
            "tickcolor": "rgb(51,51,51)",
            "ticks": "outside"
           },
           "bgcolor": "rgb(237,237,237)",
           "radialaxis": {
            "gridcolor": "white",
            "linecolor": "white",
            "showgrid": true,
            "tickcolor": "rgb(51,51,51)",
            "ticks": "outside"
           }
          },
          "scene": {
           "xaxis": {
            "backgroundcolor": "rgb(237,237,237)",
            "gridcolor": "white",
            "gridwidth": 2,
            "linecolor": "white",
            "showbackground": true,
            "showgrid": true,
            "tickcolor": "rgb(51,51,51)",
            "ticks": "outside",
            "zerolinecolor": "white"
           },
           "yaxis": {
            "backgroundcolor": "rgb(237,237,237)",
            "gridcolor": "white",
            "gridwidth": 2,
            "linecolor": "white",
            "showbackground": true,
            "showgrid": true,
            "tickcolor": "rgb(51,51,51)",
            "ticks": "outside",
            "zerolinecolor": "white"
           },
           "zaxis": {
            "backgroundcolor": "rgb(237,237,237)",
            "gridcolor": "white",
            "gridwidth": 2,
            "linecolor": "white",
            "showbackground": true,
            "showgrid": true,
            "tickcolor": "rgb(51,51,51)",
            "ticks": "outside",
            "zerolinecolor": "white"
           }
          },
          "shapedefaults": {
           "fillcolor": "black",
           "line": {
            "width": 0
           },
           "opacity": 0.3
          },
          "ternary": {
           "aaxis": {
            "gridcolor": "white",
            "linecolor": "white",
            "showgrid": true,
            "tickcolor": "rgb(51,51,51)",
            "ticks": "outside"
           },
           "baxis": {
            "gridcolor": "white",
            "linecolor": "white",
            "showgrid": true,
            "tickcolor": "rgb(51,51,51)",
            "ticks": "outside"
           },
           "bgcolor": "rgb(237,237,237)",
           "caxis": {
            "gridcolor": "white",
            "linecolor": "white",
            "showgrid": true,
            "tickcolor": "rgb(51,51,51)",
            "ticks": "outside"
           }
          },
          "xaxis": {
           "automargin": true,
           "gridcolor": "white",
           "linecolor": "white",
           "showgrid": true,
           "tickcolor": "rgb(51,51,51)",
           "ticks": "outside",
           "title": {
            "standoff": 15
           },
           "zerolinecolor": "white"
          },
          "yaxis": {
           "automargin": true,
           "gridcolor": "white",
           "linecolor": "white",
           "showgrid": true,
           "tickcolor": "rgb(51,51,51)",
           "ticks": "outside",
           "title": {
            "standoff": 15
           },
           "zerolinecolor": "white"
          }
         }
        },
        "title": {
         "text": "Time and Memory Usage vs. Minimum Support"
        },
        "xaxis": {
         "autorange": "reversed",
         "title": {
          "text": "Minimum Support"
         }
        },
        "yaxis": {
         "title": {
          "text": "Time (s)"
         }
        },
        "yaxis2": {
         "overlaying": "y",
         "side": "right",
         "title": {
          "text": "Memory Usage (MB)"
         }
        }
       }
      }
     },
     "metadata": {},
     "output_type": "display_data"
    }
   ],
   "source": [
    "import plotly.graph_objects as go\n",
    "\n",
    "fig = go.Figure()\n",
    "\n",
    "# Add the time and memory usage data to the first and second y-axis\n",
    "fig.add_trace(go.Scatter(x=min_sups, y=times, name='Time'))\n",
    "fig.add_trace(go.Scatter(x=min_sups, y=mem_usage, name='Memory Usage', yaxis='y2'))\n",
    "\n",
    "# Set the layout for the figure\n",
    "fig.update_layout(\n",
    "    title='Time and Memory Usage vs. Minimum Support', xaxis_title='Minimum Support', yaxis=dict(title='Time (s)'),\n",
    "    yaxis2=dict(title='Memory Usage (MB)', overlaying='y', side='right'))\n",
    "\n",
    "# Reverse the x-axis\n",
    "fig.update_xaxes(autorange='reversed')\n",
    "fig.update_layout(template='ggplot2')\n",
    "\n",
    "fig.show()\n"
   ]
  },
  {
   "cell_type": "code",
   "execution_count": 63,
   "metadata": {},
   "outputs": [
    {
     "name": "stderr",
     "output_type": "stream",
     "text": [
      "/var/folders/hw/n2l_r7sj3fj2mg88w0q6fpcc0000gn/T/ipykernel_58473/3159491617.py:8: SettingWithCopyWarning:\n",
      "\n",
      "\n",
      "A value is trying to be set on a copy of a slice from a DataFrame\n",
      "\n",
      "See the caveats in the documentation: https://pandas.pydata.org/pandas-docs/stable/user_guide/indexing.html#returning-a-view-versus-a-copy\n",
      "\n"
     ]
    }
   ],
   "source": [
    "import ast\n",
    "fi = pd.read_csv('frequent_itemsets3.csv')\n",
    "\n",
    "#Convert itemsets from strings to back to frozenset\n",
    "for i in range(0, len(fi[\"itemsets\"])):\n",
    "    # Remove the 'frozenset()' part from the string\n",
    "    line = fi[\"itemsets\"][i].replace(\"frozenset(\", \"\").replace(')', '')\n",
    "    # Convert the remaining string to a frozenset using ast.literal_eval\n",
    "    fi[\"itemsets\"][i] = frozenset(ast.literal_eval(line))"
   ]
  },
  {
   "cell_type": "code",
   "execution_count": 65,
   "metadata": {},
   "outputs": [
    {
     "data": {
      "text/html": [
       "<div>\n",
       "<style scoped>\n",
       "    .dataframe tbody tr th:only-of-type {\n",
       "        vertical-align: middle;\n",
       "    }\n",
       "\n",
       "    .dataframe tbody tr th {\n",
       "        vertical-align: top;\n",
       "    }\n",
       "\n",
       "    .dataframe thead th {\n",
       "        text-align: right;\n",
       "    }\n",
       "</style>\n",
       "<table border=\"1\" class=\"dataframe\">\n",
       "  <thead>\n",
       "    <tr style=\"text-align: right;\">\n",
       "      <th></th>\n",
       "      <th>support</th>\n",
       "      <th>itemsets</th>\n",
       "      <th>length</th>\n",
       "    </tr>\n",
       "  </thead>\n",
       "  <tbody>\n",
       "    <tr>\n",
       "      <th>0</th>\n",
       "      <td>0.000800</td>\n",
       "      <td>(Sparkling Orange Juice &amp; Prickly Pear Beverage)</td>\n",
       "      <td>1</td>\n",
       "    </tr>\n",
       "    <tr>\n",
       "      <th>1</th>\n",
       "      <td>0.000674</td>\n",
       "      <td>(Salted Caramel Lean Protein &amp; Fiber Bar)</td>\n",
       "      <td>1</td>\n",
       "    </tr>\n",
       "    <tr>\n",
       "      <th>2</th>\n",
       "      <td>0.002033</td>\n",
       "      <td>(Peanut Butter Cereal)</td>\n",
       "      <td>1</td>\n",
       "    </tr>\n",
       "    <tr>\n",
       "      <th>3</th>\n",
       "      <td>0.005727</td>\n",
       "      <td>(European Cucumber)</td>\n",
       "      <td>1</td>\n",
       "    </tr>\n",
       "    <tr>\n",
       "      <th>4</th>\n",
       "      <td>0.000718</td>\n",
       "      <td>(Vegetarian Grain Meat Sausages Italian - 4 CT)</td>\n",
       "      <td>1</td>\n",
       "    </tr>\n",
       "    <tr>\n",
       "      <th>...</th>\n",
       "      <td>...</td>\n",
       "      <td>...</td>\n",
       "      <td>...</td>\n",
       "    </tr>\n",
       "    <tr>\n",
       "      <th>8094</th>\n",
       "      <td>0.000624</td>\n",
       "      <td>(Bag of Organic Bananas, Organic Hass Avocado,...</td>\n",
       "      <td>4</td>\n",
       "    </tr>\n",
       "    <tr>\n",
       "      <th>8095</th>\n",
       "      <td>0.000725</td>\n",
       "      <td>(Organic Raspberries, Bag of Organic Bananas, ...</td>\n",
       "      <td>4</td>\n",
       "    </tr>\n",
       "    <tr>\n",
       "      <th>8096</th>\n",
       "      <td>0.000618</td>\n",
       "      <td>(Banana, Organic Avocado, Organic Baby Spinach...</td>\n",
       "      <td>4</td>\n",
       "    </tr>\n",
       "    <tr>\n",
       "      <th>8097</th>\n",
       "      <td>0.000714</td>\n",
       "      <td>(Banana, Organic Avocado, Organic Baby Spinach...</td>\n",
       "      <td>4</td>\n",
       "    </tr>\n",
       "    <tr>\n",
       "      <th>8098</th>\n",
       "      <td>0.000706</td>\n",
       "      <td>(Banana, Organic Avocado, Limes, Large Lemon)</td>\n",
       "      <td>4</td>\n",
       "    </tr>\n",
       "  </tbody>\n",
       "</table>\n",
       "<p>8099 rows × 3 columns</p>\n",
       "</div>"
      ],
      "text/plain": [
       "       support                                           itemsets  length\n",
       "0     0.000800   (Sparkling Orange Juice & Prickly Pear Beverage)       1\n",
       "1     0.000674          (Salted Caramel Lean Protein & Fiber Bar)       1\n",
       "2     0.002033                             (Peanut Butter Cereal)       1\n",
       "3     0.005727                                (European Cucumber)       1\n",
       "4     0.000718    (Vegetarian Grain Meat Sausages Italian - 4 CT)       1\n",
       "...        ...                                                ...     ...\n",
       "8094  0.000624  (Bag of Organic Bananas, Organic Hass Avocado,...       4\n",
       "8095  0.000725  (Organic Raspberries, Bag of Organic Bananas, ...       4\n",
       "8096  0.000618  (Banana, Organic Avocado, Organic Baby Spinach...       4\n",
       "8097  0.000714  (Banana, Organic Avocado, Organic Baby Spinach...       4\n",
       "8098  0.000706      (Banana, Organic Avocado, Limes, Large Lemon)       4\n",
       "\n",
       "[8099 rows x 3 columns]"
      ]
     },
     "execution_count": 65,
     "metadata": {},
     "output_type": "execute_result"
    }
   ],
   "source": [
    "fi['length'] = fi['itemsets'].apply(lambda x: len(x))\n",
    "fi"
   ]
  }
 ],
 "metadata": {
  "kernelspec": {
   "display_name": "Python 3 (ipykernel)",
   "language": "python",
   "name": "python3"
  },
  "language_info": {
   "codemirror_mode": {
    "name": "ipython",
    "version": 3
   },
   "file_extension": ".py",
   "mimetype": "text/x-python",
   "name": "python",
   "nbconvert_exporter": "python",
   "pygments_lexer": "ipython3",
   "version": "3.9.13"
  },
  "vscode": {
   "interpreter": {
    "hash": "57dbe44eb74a19d18f388e4d9fafc4d32a78d1722d572d14a517bc61ad3dae60"
   }
  }
 },
 "nbformat": 4,
 "nbformat_minor": 2
}
