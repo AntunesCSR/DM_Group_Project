{
 "cells": [
  {
   "cell_type": "code",
   "execution_count": 335,
   "metadata": {},
   "outputs": [],
   "source": [
    "import pandas as pd\n",
    "import numpy as np\n",
    "import matplotlib.pyplot as plt\n",
    "import seaborn as sns\n",
    "from mlxtend.frequent_patterns import apriori, association_rules\n",
    "from mlxtend.preprocessing import TransactionEncoder\n",
    "import time\n",
    "import pickle\n",
    "import psutil"
   ]
  },
  {
   "cell_type": "code",
   "execution_count": 336,
   "metadata": {},
   "outputs": [],
   "source": [
    "#Read product names and IDs\n",
    "lines=open(\"products.txt\", \"rt\", encoding=\"utf8\").readlines()\n",
    "prod_dict={}\n",
    "products=[0]*len(lines)\n",
    "for lin in lines[1:]:\n",
    "    pid, pname, aid, did=lin.strip().split(\"\\t\")    \n",
    "    products[int(pid)]=pname\n",
    "    prod_dict[pid] = pname"
   ]
  },
  {
   "cell_type": "code",
   "execution_count": 337,
   "metadata": {},
   "outputs": [],
   "source": [
    "prods = products[1:]"
   ]
  },
  {
   "cell_type": "code",
   "execution_count": 338,
   "metadata": {},
   "outputs": [
    {
     "data": {
      "text/plain": [
       "'#read transactions\\nimport pickle\\norders=pickle.load(open(\"order_products.pickle\", \"rb\"))\\n\\n#check products on order 2:\\nfor prod in orders[2]: print(products[prod])'"
      ]
     },
     "execution_count": 338,
     "metadata": {},
     "output_type": "execute_result"
    }
   ],
   "source": [
    "\"\"\"#read transactions\n",
    "import pickle\n",
    "orders=pickle.load(open(\"order_products.pickle\", \"rb\"))\n",
    "\n",
    "#check products on order 2:\n",
    "for prod in orders[2]: print(products[prod])\"\"\""
   ]
  },
  {
   "cell_type": "code",
   "execution_count": 339,
   "metadata": {},
   "outputs": [],
   "source": [
    "# Load the transaction dataset from a pickle file\n",
    "with open(\"order_products.pickle\", \"rb\") as f:\n",
    "    orders = pickle.load(f)\n",
    "\n",
    "# Convert the transaction data into a list of lists\n",
    "orders_list = [list(order) for order in orders.values()]"
   ]
  },
  {
   "cell_type": "code",
   "execution_count": 340,
   "metadata": {},
   "outputs": [],
   "source": [
    "# Encode the transaction data as a binary matrix\n",
    "te = TransactionEncoder()\n",
    "te_ary = te.fit_transform(orders_list, sparse=True)"
   ]
  },
  {
   "cell_type": "code",
   "execution_count": 341,
   "metadata": {},
   "outputs": [],
   "source": [
    "df = pd.DataFrame.sparse.from_spmatrix(te_ary, columns=te.columns_)"
   ]
  },
  {
   "cell_type": "code",
   "execution_count": 342,
   "metadata": {},
   "outputs": [],
   "source": [
    "df.columns = [prod_dict[str(key)] for key in df.columns]"
   ]
  },
  {
   "cell_type": "code",
   "execution_count": 343,
   "metadata": {},
   "outputs": [
    {
     "name": "stdout",
     "output_type": "stream",
     "text": [
      "Size of orders 160.00009155273438 MB\n",
      "Size of orders_list 26.16533660888672 MB\n",
      "Size of te_ary 4.57763671875e-05 MB\n",
      "Size of product_dict 2.500091552734375 MB\n",
      "Size of products 0.379150390625 MB\n"
     ]
    }
   ],
   "source": [
    "from sys import getsizeof\n",
    "\n",
    "print(f\"Size of orders {getsizeof(orders)/1024/1024} MB\")\n",
    "print(f\"Size of orders_list {getsizeof(orders_list)/1024/1024} MB\")\n",
    "print(f\"Size of te_ary {getsizeof(te_ary)/1024/1024} MB\")\n",
    "print(f\"Size of product_dict {getsizeof(prod_dict)/1024/1024} MB\")\n",
    "print(f\"Size of products {getsizeof(products)/1024/1024} MB\")"
   ]
  },
  {
   "cell_type": "code",
   "execution_count": 344,
   "metadata": {},
   "outputs": [],
   "source": [
    "orders = None\n",
    "orders_list = None\n"
   ]
  },
  {
   "cell_type": "code",
   "execution_count": 345,
   "metadata": {},
   "outputs": [
    {
     "name": "stdout",
     "output_type": "stream",
     "text": [
      "Size of orders 0.0 MB\n",
      "Size of orders_list 0.0 MB\n"
     ]
    }
   ],
   "source": [
    "print(f\"Size of orders {round(getsizeof(orders)/1024/1024, 4)} MB\")\n",
    "print(f\"Size of orders_list {round(getsizeof(orders_list)/1024/1024, 4)} MB\")"
   ]
  },
  {
   "cell_type": "code",
   "execution_count": 346,
   "metadata": {},
   "outputs": [],
   "source": [
    "#Here is the main search for the minimum support, took hours to fully run. Don't run again.\n",
    "\n",
    "min_support = 0.0\n",
    "increment = 0.0\n",
    "max_time = 60*60*2 # 2 hours in seconds\n",
    "starting_support = [0.1, 0.01, 0.001, 0.0001, 0.00001]\n",
    "cont = True\n",
    "\n",
    "#Creae and open a file to write the results\n",
    "def find_min_support():\n",
    "    with open(\"min_support2.txt\", \"w\") as f:\n",
    "        for i in range(len(starting_support)):\n",
    "            if round(min_support, 6) == 0.0:\n",
    "                min_support = starting_support[i]\n",
    "                increment = starting_support[i]/10\n",
    "                cont = True\n",
    "            else:\n",
    "                continue\n",
    "            while cont == True:\n",
    "                start_time = time.time()\n",
    "                frequent_itemsets = apriori(df, min_support=min_support, use_colnames=True, low_memory=True)\n",
    "                #Save the frequent itemsets to a csv file\n",
    "                frequent_itemsets.to_csv('frequent_itemsets3.csv', index=False)\n",
    "                end_time = time.time()\n",
    "                memory_usage = frequent_itemsets.memory_usage(deep=True).sum()\n",
    "                total_memory = psutil.virtual_memory().available\n",
    "                elapsed_time = end_time - start_time\n",
    "\n",
    "                #Record the results and save to file\n",
    "                f.write('Minimum support: {:.3f}, Time: {:.3f} s, FI Mem usage: {:.3f}MB, Total Mem usage: {:.3f}MB\\n'.format(round(min_support, 6), elapsed_time, memory_usage/1024/1024, total_memory/1024/1024))\n",
    "                f.write(f\"{round(min_support, 6)}\\n\")\n",
    "                print('Minimum support: {:.3f}, Time: {:.3f} s, FI Mem usage: {:.3f}MB, Total Mem usage: {:.3f}MB'.format(round(min_support, 6), elapsed_time, memory_usage/1024/1024, total_memory/1024/1024))\n",
    "                \n",
    "                min_support -= increment\n",
    "                if round(min_support, 6) == 0.0:\n",
    "                    cont = False\n",
    "                \n",
    "                print(f\"Continue: {cont}\")\n",
    "                if elapsed_time > max_time:\n",
    "                    print(f\"Minimum support: {round(min_support, 6)} exceeded time limit\")\n",
    "                    break\n",
    "\n",
    "#find_min_support()"
   ]
  },
  {
   "cell_type": "code",
   "execution_count": 347,
   "metadata": {},
   "outputs": [
    {
     "name": "stdout",
     "output_type": "stream",
     "text": [
      "Minimum support: 0.0006\n"
     ]
    }
   ],
   "source": [
    "with open(\"min_support.txt\", \"r\") as f:    \n",
    "    #Store the lines in a list\n",
    "    lines = f.readlines()\n",
    "    #Get the last line without \\n\n",
    "    min_sup = float(lines[-1].rstrip())\n",
    "    print(f\"Minimum support: {min_sup}\")\n",
    "    \n",
    "    min_sups = [float(lines[i].split()[2].replace(',', '')) for i in range(0, len(lines), 2)]\n",
    "\n",
    "    times = [float(lines[i].split()[4].replace(',', '')) for i in range(0, len(lines), 2)]\n",
    "\n",
    "    mem_usage = [float(lines[i].split()[9].replace('MB,', '')) for i in range(0, len(lines), 2)]"
   ]
  },
  {
   "cell_type": "code",
   "execution_count": 348,
   "metadata": {},
   "outputs": [
    {
     "data": {
      "application/vnd.plotly.v1+json": {
       "config": {
        "plotlyServerURL": "https://plot.ly"
       },
       "data": [
        {
         "name": "Time",
         "type": "scatter",
         "x": [
          0.1,
          0.09,
          0.08,
          0.07,
          0.06,
          0.05,
          0.04,
          0.03,
          0.02,
          0.01,
          0.009,
          0.008,
          0.007,
          0.006,
          0.005,
          0.004,
          0.003,
          0.002,
          0.001,
          0.0009,
          0.0008,
          0.0007,
          0.0006
         ],
         "y": [
          1.006,
          0.983,
          0.997,
          1.023,
          1.035,
          1.067,
          1.188,
          1.303,
          1.908,
          10.335,
          12.876,
          16.878,
          22.958,
          33.4,
          49.857,
          93.349,
          212.875,
          640.154,
          3421.852,
          5659.659,
          5356.915,
          7135.905,
          36683.659
         ]
        },
        {
         "name": "Memory Usage",
         "type": "scatter",
         "x": [
          0.1,
          0.09,
          0.08,
          0.07,
          0.06,
          0.05,
          0.04,
          0.03,
          0.02,
          0.01,
          0.009,
          0.008,
          0.007,
          0.006,
          0.005,
          0.004,
          0.003,
          0.002,
          0.001,
          0.0009,
          0.0008,
          0.0007,
          0.0006
         ],
         "y": [
          0.001,
          0.001,
          0.001,
          0.001,
          0.001,
          0.001,
          0.002,
          0.003,
          0.008,
          0.024,
          0.029,
          0.033,
          0.04,
          0.052,
          0.067,
          0.1,
          0.162,
          0.294,
          0.8,
          0.936,
          1.101,
          1.338,
          1.668
         ],
         "yaxis": "y2"
        }
       ],
       "layout": {
        "template": {
         "data": {
          "bar": [
           {
            "error_x": {
             "color": "rgb(51,51,51)"
            },
            "error_y": {
             "color": "rgb(51,51,51)"
            },
            "marker": {
             "line": {
              "color": "rgb(237,237,237)",
              "width": 0.5
             },
             "pattern": {
              "fillmode": "overlay",
              "size": 10,
              "solidity": 0.2
             }
            },
            "type": "bar"
           }
          ],
          "barpolar": [
           {
            "marker": {
             "line": {
              "color": "rgb(237,237,237)",
              "width": 0.5
             },
             "pattern": {
              "fillmode": "overlay",
              "size": 10,
              "solidity": 0.2
             }
            },
            "type": "barpolar"
           }
          ],
          "carpet": [
           {
            "aaxis": {
             "endlinecolor": "rgb(51,51,51)",
             "gridcolor": "white",
             "linecolor": "white",
             "minorgridcolor": "white",
             "startlinecolor": "rgb(51,51,51)"
            },
            "baxis": {
             "endlinecolor": "rgb(51,51,51)",
             "gridcolor": "white",
             "linecolor": "white",
             "minorgridcolor": "white",
             "startlinecolor": "rgb(51,51,51)"
            },
            "type": "carpet"
           }
          ],
          "choropleth": [
           {
            "colorbar": {
             "outlinewidth": 0,
             "tickcolor": "rgb(237,237,237)",
             "ticklen": 6,
             "ticks": "inside"
            },
            "type": "choropleth"
           }
          ],
          "contour": [
           {
            "colorbar": {
             "outlinewidth": 0,
             "tickcolor": "rgb(237,237,237)",
             "ticklen": 6,
             "ticks": "inside"
            },
            "colorscale": [
             [
              0,
              "rgb(20,44,66)"
             ],
             [
              1,
              "rgb(90,179,244)"
             ]
            ],
            "type": "contour"
           }
          ],
          "contourcarpet": [
           {
            "colorbar": {
             "outlinewidth": 0,
             "tickcolor": "rgb(237,237,237)",
             "ticklen": 6,
             "ticks": "inside"
            },
            "type": "contourcarpet"
           }
          ],
          "heatmap": [
           {
            "colorbar": {
             "outlinewidth": 0,
             "tickcolor": "rgb(237,237,237)",
             "ticklen": 6,
             "ticks": "inside"
            },
            "colorscale": [
             [
              0,
              "rgb(20,44,66)"
             ],
             [
              1,
              "rgb(90,179,244)"
             ]
            ],
            "type": "heatmap"
           }
          ],
          "heatmapgl": [
           {
            "colorbar": {
             "outlinewidth": 0,
             "tickcolor": "rgb(237,237,237)",
             "ticklen": 6,
             "ticks": "inside"
            },
            "colorscale": [
             [
              0,
              "rgb(20,44,66)"
             ],
             [
              1,
              "rgb(90,179,244)"
             ]
            ],
            "type": "heatmapgl"
           }
          ],
          "histogram": [
           {
            "marker": {
             "pattern": {
              "fillmode": "overlay",
              "size": 10,
              "solidity": 0.2
             }
            },
            "type": "histogram"
           }
          ],
          "histogram2d": [
           {
            "colorbar": {
             "outlinewidth": 0,
             "tickcolor": "rgb(237,237,237)",
             "ticklen": 6,
             "ticks": "inside"
            },
            "colorscale": [
             [
              0,
              "rgb(20,44,66)"
             ],
             [
              1,
              "rgb(90,179,244)"
             ]
            ],
            "type": "histogram2d"
           }
          ],
          "histogram2dcontour": [
           {
            "colorbar": {
             "outlinewidth": 0,
             "tickcolor": "rgb(237,237,237)",
             "ticklen": 6,
             "ticks": "inside"
            },
            "colorscale": [
             [
              0,
              "rgb(20,44,66)"
             ],
             [
              1,
              "rgb(90,179,244)"
             ]
            ],
            "type": "histogram2dcontour"
           }
          ],
          "mesh3d": [
           {
            "colorbar": {
             "outlinewidth": 0,
             "tickcolor": "rgb(237,237,237)",
             "ticklen": 6,
             "ticks": "inside"
            },
            "type": "mesh3d"
           }
          ],
          "parcoords": [
           {
            "line": {
             "colorbar": {
              "outlinewidth": 0,
              "tickcolor": "rgb(237,237,237)",
              "ticklen": 6,
              "ticks": "inside"
             }
            },
            "type": "parcoords"
           }
          ],
          "pie": [
           {
            "automargin": true,
            "type": "pie"
           }
          ],
          "scatter": [
           {
            "fillpattern": {
             "fillmode": "overlay",
             "size": 10,
             "solidity": 0.2
            },
            "type": "scatter"
           }
          ],
          "scatter3d": [
           {
            "line": {
             "colorbar": {
              "outlinewidth": 0,
              "tickcolor": "rgb(237,237,237)",
              "ticklen": 6,
              "ticks": "inside"
             }
            },
            "marker": {
             "colorbar": {
              "outlinewidth": 0,
              "tickcolor": "rgb(237,237,237)",
              "ticklen": 6,
              "ticks": "inside"
             }
            },
            "type": "scatter3d"
           }
          ],
          "scattercarpet": [
           {
            "marker": {
             "colorbar": {
              "outlinewidth": 0,
              "tickcolor": "rgb(237,237,237)",
              "ticklen": 6,
              "ticks": "inside"
             }
            },
            "type": "scattercarpet"
           }
          ],
          "scattergeo": [
           {
            "marker": {
             "colorbar": {
              "outlinewidth": 0,
              "tickcolor": "rgb(237,237,237)",
              "ticklen": 6,
              "ticks": "inside"
             }
            },
            "type": "scattergeo"
           }
          ],
          "scattergl": [
           {
            "marker": {
             "colorbar": {
              "outlinewidth": 0,
              "tickcolor": "rgb(237,237,237)",
              "ticklen": 6,
              "ticks": "inside"
             }
            },
            "type": "scattergl"
           }
          ],
          "scattermapbox": [
           {
            "marker": {
             "colorbar": {
              "outlinewidth": 0,
              "tickcolor": "rgb(237,237,237)",
              "ticklen": 6,
              "ticks": "inside"
             }
            },
            "type": "scattermapbox"
           }
          ],
          "scatterpolar": [
           {
            "marker": {
             "colorbar": {
              "outlinewidth": 0,
              "tickcolor": "rgb(237,237,237)",
              "ticklen": 6,
              "ticks": "inside"
             }
            },
            "type": "scatterpolar"
           }
          ],
          "scatterpolargl": [
           {
            "marker": {
             "colorbar": {
              "outlinewidth": 0,
              "tickcolor": "rgb(237,237,237)",
              "ticklen": 6,
              "ticks": "inside"
             }
            },
            "type": "scatterpolargl"
           }
          ],
          "scatterternary": [
           {
            "marker": {
             "colorbar": {
              "outlinewidth": 0,
              "tickcolor": "rgb(237,237,237)",
              "ticklen": 6,
              "ticks": "inside"
             }
            },
            "type": "scatterternary"
           }
          ],
          "surface": [
           {
            "colorbar": {
             "outlinewidth": 0,
             "tickcolor": "rgb(237,237,237)",
             "ticklen": 6,
             "ticks": "inside"
            },
            "colorscale": [
             [
              0,
              "rgb(20,44,66)"
             ],
             [
              1,
              "rgb(90,179,244)"
             ]
            ],
            "type": "surface"
           }
          ],
          "table": [
           {
            "cells": {
             "fill": {
              "color": "rgb(237,237,237)"
             },
             "line": {
              "color": "white"
             }
            },
            "header": {
             "fill": {
              "color": "rgb(217,217,217)"
             },
             "line": {
              "color": "white"
             }
            },
            "type": "table"
           }
          ]
         },
         "layout": {
          "annotationdefaults": {
           "arrowhead": 0,
           "arrowwidth": 1
          },
          "autotypenumbers": "strict",
          "coloraxis": {
           "colorbar": {
            "outlinewidth": 0,
            "tickcolor": "rgb(237,237,237)",
            "ticklen": 6,
            "ticks": "inside"
           }
          },
          "colorscale": {
           "sequential": [
            [
             0,
             "rgb(20,44,66)"
            ],
            [
             1,
             "rgb(90,179,244)"
            ]
           ],
           "sequentialminus": [
            [
             0,
             "rgb(20,44,66)"
            ],
            [
             1,
             "rgb(90,179,244)"
            ]
           ]
          },
          "colorway": [
           "#F8766D",
           "#A3A500",
           "#00BF7D",
           "#00B0F6",
           "#E76BF3"
          ],
          "font": {
           "color": "rgb(51,51,51)"
          },
          "geo": {
           "bgcolor": "white",
           "lakecolor": "white",
           "landcolor": "rgb(237,237,237)",
           "showlakes": true,
           "showland": true,
           "subunitcolor": "white"
          },
          "hoverlabel": {
           "align": "left"
          },
          "hovermode": "closest",
          "paper_bgcolor": "white",
          "plot_bgcolor": "rgb(237,237,237)",
          "polar": {
           "angularaxis": {
            "gridcolor": "white",
            "linecolor": "white",
            "showgrid": true,
            "tickcolor": "rgb(51,51,51)",
            "ticks": "outside"
           },
           "bgcolor": "rgb(237,237,237)",
           "radialaxis": {
            "gridcolor": "white",
            "linecolor": "white",
            "showgrid": true,
            "tickcolor": "rgb(51,51,51)",
            "ticks": "outside"
           }
          },
          "scene": {
           "xaxis": {
            "backgroundcolor": "rgb(237,237,237)",
            "gridcolor": "white",
            "gridwidth": 2,
            "linecolor": "white",
            "showbackground": true,
            "showgrid": true,
            "tickcolor": "rgb(51,51,51)",
            "ticks": "outside",
            "zerolinecolor": "white"
           },
           "yaxis": {
            "backgroundcolor": "rgb(237,237,237)",
            "gridcolor": "white",
            "gridwidth": 2,
            "linecolor": "white",
            "showbackground": true,
            "showgrid": true,
            "tickcolor": "rgb(51,51,51)",
            "ticks": "outside",
            "zerolinecolor": "white"
           },
           "zaxis": {
            "backgroundcolor": "rgb(237,237,237)",
            "gridcolor": "white",
            "gridwidth": 2,
            "linecolor": "white",
            "showbackground": true,
            "showgrid": true,
            "tickcolor": "rgb(51,51,51)",
            "ticks": "outside",
            "zerolinecolor": "white"
           }
          },
          "shapedefaults": {
           "fillcolor": "black",
           "line": {
            "width": 0
           },
           "opacity": 0.3
          },
          "ternary": {
           "aaxis": {
            "gridcolor": "white",
            "linecolor": "white",
            "showgrid": true,
            "tickcolor": "rgb(51,51,51)",
            "ticks": "outside"
           },
           "baxis": {
            "gridcolor": "white",
            "linecolor": "white",
            "showgrid": true,
            "tickcolor": "rgb(51,51,51)",
            "ticks": "outside"
           },
           "bgcolor": "rgb(237,237,237)",
           "caxis": {
            "gridcolor": "white",
            "linecolor": "white",
            "showgrid": true,
            "tickcolor": "rgb(51,51,51)",
            "ticks": "outside"
           }
          },
          "xaxis": {
           "automargin": true,
           "gridcolor": "white",
           "linecolor": "white",
           "showgrid": true,
           "tickcolor": "rgb(51,51,51)",
           "ticks": "outside",
           "title": {
            "standoff": 15
           },
           "zerolinecolor": "white"
          },
          "yaxis": {
           "automargin": true,
           "gridcolor": "white",
           "linecolor": "white",
           "showgrid": true,
           "tickcolor": "rgb(51,51,51)",
           "ticks": "outside",
           "title": {
            "standoff": 15
           },
           "zerolinecolor": "white"
          }
         }
        },
        "title": {
         "text": "Time and Memory Usage vs. Minimum Support"
        },
        "xaxis": {
         "autorange": "reversed",
         "title": {
          "text": "Minimum Support"
         }
        },
        "yaxis": {
         "title": {
          "text": "Time (s)"
         }
        },
        "yaxis2": {
         "overlaying": "y",
         "side": "right",
         "title": {
          "text": "Memory Usage (MB)"
         }
        }
       }
      }
     },
     "metadata": {},
     "output_type": "display_data"
    }
   ],
   "source": [
    "import plotly.graph_objects as go\n",
    "\n",
    "fig = go.Figure()\n",
    "\n",
    "# Add the time and memory usage data to the first and second y-axis\n",
    "fig.add_trace(go.Scatter(x=min_sups, y=times, name='Time'))\n",
    "fig.add_trace(go.Scatter(x=min_sups, y=mem_usage, name='Memory Usage', yaxis='y2'))\n",
    "\n",
    "# Set the layout for the figure\n",
    "fig.update_layout(\n",
    "    title='Time and Memory Usage vs. Minimum Support', xaxis_title='Minimum Support', yaxis=dict(title='Time (s)'),\n",
    "    yaxis2=dict(title='Memory Usage (MB)', overlaying='y', side='right'))\n",
    "\n",
    "# Reverse the x-axis\n",
    "fig.update_xaxes(autorange='reversed')\n",
    "fig.update_layout(template='ggplot2')\n",
    "\n",
    "fig.show()\n"
   ]
  },
  {
   "cell_type": "code",
   "execution_count": 349,
   "metadata": {},
   "outputs": [
    {
     "data": {
      "image/png": "[encoded data removed]",
      "text/plain": [
       "<Figure size 1200x400 with 2 Axes>"
      ]
     },
     "metadata": {},
     "output_type": "display_data"
    }
   ],
   "source": [
    "import matplotlib.pyplot as plt\n",
    "import seaborn as sns\n",
    "\n",
    "# Create a new figure\n",
    "fig, ax1 = plt.subplots()\n",
    "fig.set_size_inches(12, 4)\n",
    "\n",
    "# Add the time data to the first y-axis\n",
    "ax1.plot(min_sups, times, label='Time', color='tab:blue', marker='o')\n",
    "ax1.set_xlabel('Minimum Support')\n",
    "ax1.set_ylabel('Time (s)')\n",
    "\n",
    "# Create a second y-axis and add the memory usage data\n",
    "ax2 = ax1.twinx()\n",
    "ax2.plot(min_sups, mem_usage, label='Memory Usage', color='tab:orange', marker='o')\n",
    "ax2.set_ylabel('Memory Usage (MB)')\n",
    "\n",
    "# Set the layout for the figure\n",
    "fig.suptitle('Time and Memory Usage vs. Minimum Support')\n",
    "ax1.legend(loc='upper left')\n",
    "ax2.legend(loc='upper right')\n",
    "sns.set_style('whitegrid')\n",
    "\n",
    "# Reverse the x-axis\n",
    "ax1.invert_xaxis()\n",
    "plt.show()\n"
   ]
  },
  {
   "cell_type": "code",
   "execution_count": 350,
   "metadata": {},
   "outputs": [
    {
     "name": "stderr",
     "output_type": "stream",
     "text": [
      "/var/folders/hw/n2l_r7sj3fj2mg88w0q6fpcc0000gn/T/ipykernel_58473/2110204280.py:9: SettingWithCopyWarning:\n",
      "\n",
      "\n",
      "A value is trying to be set on a copy of a slice from a DataFrame\n",
      "\n",
      "See the caveats in the documentation: https://pandas.pydata.org/pandas-docs/stable/user_guide/indexing.html#returning-a-view-versus-a-copy\n",
      "\n"
     ]
    }
   ],
   "source": [
    "import ast\n",
    "fi = pd.read_csv('frequent_itemsets3.csv')\n",
    "\n",
    "#Convert itemsets from strings to back to frozenset\n",
    "for i in range(0, len(fi[\"itemsets\"])):\n",
    "    # Remove the 'frozenset()' part from the string\n",
    "    line = fi[\"itemsets\"][i].replace(\"frozenset(\", \"\").replace(')', '')\n",
    "    # Convert the remaining string to a frozenset using ast.literal_eval\n",
    "    fi[\"itemsets\"][i] = frozenset(ast.literal_eval(line))"
   ]
  },
  {
   "cell_type": "code",
   "execution_count": 351,
   "metadata": {},
   "outputs": [
    {
     "data": {
      "text/html": [
       "<div>\n",
       "<style scoped>\n",
       "    .dataframe tbody tr th:only-of-type {\n",
       "        vertical-align: middle;\n",
       "    }\n",
       "\n",
       "    .dataframe tbody tr th {\n",
       "        vertical-align: top;\n",
       "    }\n",
       "\n",
       "    .dataframe thead th {\n",
       "        text-align: right;\n",
       "    }\n",
       "</style>\n",
       "<table border=\"1\" class=\"dataframe\">\n",
       "  <thead>\n",
       "    <tr style=\"text-align: right;\">\n",
       "      <th></th>\n",
       "      <th>support</th>\n",
       "      <th>itemsets</th>\n",
       "      <th>length</th>\n",
       "    </tr>\n",
       "  </thead>\n",
       "  <tbody>\n",
       "    <tr>\n",
       "      <th>0</th>\n",
       "      <td>0.000800</td>\n",
       "      <td>(Sparkling Orange Juice &amp; Prickly Pear Beverage)</td>\n",
       "      <td>1</td>\n",
       "    </tr>\n",
       "    <tr>\n",
       "      <th>1</th>\n",
       "      <td>0.000674</td>\n",
       "      <td>(Salted Caramel Lean Protein &amp; Fiber Bar)</td>\n",
       "      <td>1</td>\n",
       "    </tr>\n",
       "    <tr>\n",
       "      <th>2</th>\n",
       "      <td>0.002033</td>\n",
       "      <td>(Peanut Butter Cereal)</td>\n",
       "      <td>1</td>\n",
       "    </tr>\n",
       "    <tr>\n",
       "      <th>3</th>\n",
       "      <td>0.005727</td>\n",
       "      <td>(European Cucumber)</td>\n",
       "      <td>1</td>\n",
       "    </tr>\n",
       "    <tr>\n",
       "      <th>4</th>\n",
       "      <td>0.000718</td>\n",
       "      <td>(Vegetarian Grain Meat Sausages Italian - 4 CT)</td>\n",
       "      <td>1</td>\n",
       "    </tr>\n",
       "  </tbody>\n",
       "</table>\n",
       "</div>"
      ],
      "text/plain": [
       "    support                                          itemsets  length\n",
       "0  0.000800  (Sparkling Orange Juice & Prickly Pear Beverage)       1\n",
       "1  0.000674         (Salted Caramel Lean Protein & Fiber Bar)       1\n",
       "2  0.002033                            (Peanut Butter Cereal)       1\n",
       "3  0.005727                               (European Cucumber)       1\n",
       "4  0.000718   (Vegetarian Grain Meat Sausages Italian - 4 CT)       1"
      ]
     },
     "execution_count": 351,
     "metadata": {},
     "output_type": "execute_result"
    }
   ],
   "source": [
    "fi['length'] = fi['itemsets'].apply(lambda x: len(x))\n",
    "fi.head()"
   ]
  },
  {
   "cell_type": "code",
   "execution_count": 352,
   "metadata": {},
   "outputs": [
    {
     "name": "stdout",
     "output_type": "stream",
     "text": [
      "Minimum support value: 0.0006000235156961\n"
     ]
    }
   ],
   "source": [
    "min_support_vaue = min(fi[\"support\"])\n",
    "print(f\"Minimum support value: {min_support_vaue}\")"
   ]
  },
  {
   "cell_type": "code",
   "execution_count": 366,
   "metadata": {},
   "outputs": [
    {
     "data": {
      "text/html": [
       "<div>\n",
       "<style scoped>\n",
       "    .dataframe tbody tr th:only-of-type {\n",
       "        vertical-align: middle;\n",
       "    }\n",
       "\n",
       "    .dataframe tbody tr th {\n",
       "        vertical-align: top;\n",
       "    }\n",
       "\n",
       "    .dataframe thead th {\n",
       "        text-align: right;\n",
       "    }\n",
       "</style>\n",
       "<table border=\"1\" class=\"dataframe\">\n",
       "  <thead>\n",
       "    <tr style=\"text-align: right;\">\n",
       "      <th></th>\n",
       "      <th>antecedents</th>\n",
       "      <th>consequents</th>\n",
       "      <th>antecedent support</th>\n",
       "      <th>consequent support</th>\n",
       "      <th>support</th>\n",
       "      <th>confidence</th>\n",
       "      <th>lift</th>\n",
       "      <th>leverage</th>\n",
       "      <th>conviction</th>\n",
       "    </tr>\n",
       "  </thead>\n",
       "  <tbody>\n",
       "    <tr>\n",
       "      <th>0</th>\n",
       "      <td>(European Cucumber)</td>\n",
       "      <td>(Bag of Organic Bananas)</td>\n",
       "      <td>0.005727</td>\n",
       "      <td>0.118030</td>\n",
       "      <td>0.000699</td>\n",
       "      <td>0.121979</td>\n",
       "      <td>1.033462</td>\n",
       "      <td>0.000023</td>\n",
       "      <td>1.004498</td>\n",
       "    </tr>\n",
       "    <tr>\n",
       "      <th>1</th>\n",
       "      <td>(Bag of Organic Bananas)</td>\n",
       "      <td>(European Cucumber)</td>\n",
       "      <td>0.118030</td>\n",
       "      <td>0.005727</td>\n",
       "      <td>0.000699</td>\n",
       "      <td>0.005919</td>\n",
       "      <td>1.033462</td>\n",
       "      <td>0.000023</td>\n",
       "      <td>1.000193</td>\n",
       "    </tr>\n",
       "    <tr>\n",
       "      <th>2</th>\n",
       "      <td>(European Cucumber)</td>\n",
       "      <td>(Organic Strawberries)</td>\n",
       "      <td>0.005727</td>\n",
       "      <td>0.082331</td>\n",
       "      <td>0.000848</td>\n",
       "      <td>0.148048</td>\n",
       "      <td>1.798205</td>\n",
       "      <td>0.000376</td>\n",
       "      <td>1.077137</td>\n",
       "    </tr>\n",
       "    <tr>\n",
       "      <th>3</th>\n",
       "      <td>(Organic Strawberries)</td>\n",
       "      <td>(European Cucumber)</td>\n",
       "      <td>0.082331</td>\n",
       "      <td>0.005727</td>\n",
       "      <td>0.000848</td>\n",
       "      <td>0.010299</td>\n",
       "      <td>1.798205</td>\n",
       "      <td>0.000376</td>\n",
       "      <td>1.004619</td>\n",
       "    </tr>\n",
       "    <tr>\n",
       "      <th>4</th>\n",
       "      <td>(European Cucumber)</td>\n",
       "      <td>(Organic Baby Spinach)</td>\n",
       "      <td>0.005727</td>\n",
       "      <td>0.075251</td>\n",
       "      <td>0.000642</td>\n",
       "      <td>0.112095</td>\n",
       "      <td>1.489620</td>\n",
       "      <td>0.000211</td>\n",
       "      <td>1.041496</td>\n",
       "    </tr>\n",
       "    <tr>\n",
       "      <th>5</th>\n",
       "      <td>(Organic Baby Spinach)</td>\n",
       "      <td>(European Cucumber)</td>\n",
       "      <td>0.075251</td>\n",
       "      <td>0.005727</td>\n",
       "      <td>0.000642</td>\n",
       "      <td>0.008532</td>\n",
       "      <td>1.489620</td>\n",
       "      <td>0.000211</td>\n",
       "      <td>1.002828</td>\n",
       "    </tr>\n",
       "    <tr>\n",
       "      <th>6</th>\n",
       "      <td>(European Cucumber)</td>\n",
       "      <td>(Banana)</td>\n",
       "      <td>0.005727</td>\n",
       "      <td>0.146993</td>\n",
       "      <td>0.001456</td>\n",
       "      <td>0.254168</td>\n",
       "      <td>1.729114</td>\n",
       "      <td>0.000614</td>\n",
       "      <td>1.143699</td>\n",
       "    </tr>\n",
       "    <tr>\n",
       "      <th>7</th>\n",
       "      <td>(Banana)</td>\n",
       "      <td>(European Cucumber)</td>\n",
       "      <td>0.146993</td>\n",
       "      <td>0.005727</td>\n",
       "      <td>0.001456</td>\n",
       "      <td>0.009903</td>\n",
       "      <td>1.729114</td>\n",
       "      <td>0.000614</td>\n",
       "      <td>1.004218</td>\n",
       "    </tr>\n",
       "    <tr>\n",
       "      <th>8</th>\n",
       "      <td>(European Cucumber)</td>\n",
       "      <td>(Limes)</td>\n",
       "      <td>0.005727</td>\n",
       "      <td>0.043743</td>\n",
       "      <td>0.000673</td>\n",
       "      <td>0.117471</td>\n",
       "      <td>2.685513</td>\n",
       "      <td>0.000422</td>\n",
       "      <td>1.083543</td>\n",
       "    </tr>\n",
       "    <tr>\n",
       "      <th>9</th>\n",
       "      <td>(Limes)</td>\n",
       "      <td>(European Cucumber)</td>\n",
       "      <td>0.043743</td>\n",
       "      <td>0.005727</td>\n",
       "      <td>0.000673</td>\n",
       "      <td>0.015381</td>\n",
       "      <td>2.685513</td>\n",
       "      <td>0.000422</td>\n",
       "      <td>1.009804</td>\n",
       "    </tr>\n",
       "  </tbody>\n",
       "</table>\n",
       "</div>"
      ],
      "text/plain": [
       "                antecedents               consequents  antecedent support  \\\n",
       "0       (European Cucumber)  (Bag of Organic Bananas)            0.005727   \n",
       "1  (Bag of Organic Bananas)       (European Cucumber)            0.118030   \n",
       "2       (European Cucumber)    (Organic Strawberries)            0.005727   \n",
       "3    (Organic Strawberries)       (European Cucumber)            0.082331   \n",
       "4       (European Cucumber)    (Organic Baby Spinach)            0.005727   \n",
       "5    (Organic Baby Spinach)       (European Cucumber)            0.075251   \n",
       "6       (European Cucumber)                  (Banana)            0.005727   \n",
       "7                  (Banana)       (European Cucumber)            0.146993   \n",
       "8       (European Cucumber)                   (Limes)            0.005727   \n",
       "9                   (Limes)       (European Cucumber)            0.043743   \n",
       "\n",
       "   consequent support   support  confidence      lift  leverage  conviction  \n",
       "0            0.118030  0.000699    0.121979  1.033462  0.000023    1.004498  \n",
       "1            0.005727  0.000699    0.005919  1.033462  0.000023    1.000193  \n",
       "2            0.082331  0.000848    0.148048  1.798205  0.000376    1.077137  \n",
       "3            0.005727  0.000848    0.010299  1.798205  0.000376    1.004619  \n",
       "4            0.075251  0.000642    0.112095  1.489620  0.000211    1.041496  \n",
       "5            0.005727  0.000642    0.008532  1.489620  0.000211    1.002828  \n",
       "6            0.146993  0.001456    0.254168  1.729114  0.000614    1.143699  \n",
       "7            0.005727  0.001456    0.009903  1.729114  0.000614    1.004218  \n",
       "8            0.043743  0.000673    0.117471  2.685513  0.000422    1.083543  \n",
       "9            0.005727  0.000673    0.015381  2.685513  0.000422    1.009804  "
      ]
     },
     "execution_count": 366,
     "metadata": {},
     "output_type": "execute_result"
    }
   ],
   "source": [
    "rules = association_rules(fi, metric=\"support\", min_threshold=0.0006)\n",
    "rules.head(10)"
   ]
  },
  {
   "cell_type": "code",
   "execution_count": 354,
   "metadata": {},
   "outputs": [
    {
     "data": {
      "text/plain": [
       "14050"
      ]
     },
     "execution_count": 354,
     "metadata": {},
     "output_type": "execute_result"
    }
   ],
   "source": [
    "len(rules)"
   ]
  },
  {
   "cell_type": "code",
   "execution_count": 355,
   "metadata": {},
   "outputs": [
    {
     "data": {
      "text/html": [
       "<div>\n",
       "<style scoped>\n",
       "    .dataframe tbody tr th:only-of-type {\n",
       "        vertical-align: middle;\n",
       "    }\n",
       "\n",
       "    .dataframe tbody tr th {\n",
       "        vertical-align: top;\n",
       "    }\n",
       "\n",
       "    .dataframe thead th {\n",
       "        text-align: right;\n",
       "    }\n",
       "</style>\n",
       "<table border=\"1\" class=\"dataframe\">\n",
       "  <thead>\n",
       "    <tr style=\"text-align: right;\">\n",
       "      <th></th>\n",
       "      <th>antecedents</th>\n",
       "      <th>consequents</th>\n",
       "      <th>antecedent support</th>\n",
       "      <th>consequent support</th>\n",
       "      <th>support</th>\n",
       "      <th>confidence</th>\n",
       "      <th>lift</th>\n",
       "      <th>leverage</th>\n",
       "      <th>conviction</th>\n",
       "    </tr>\n",
       "  </thead>\n",
       "  <tbody>\n",
       "    <tr>\n",
       "      <th>3196</th>\n",
       "      <td>(Almond Milk Blueberry Yogurt)</td>\n",
       "      <td>(Almond Milk Peach Yogurt)</td>\n",
       "      <td>0.001467</td>\n",
       "      <td>0.001464</td>\n",
       "      <td>0.000703</td>\n",
       "      <td>0.479220</td>\n",
       "      <td>327.306327</td>\n",
       "      <td>0.000701</td>\n",
       "      <td>1.917384</td>\n",
       "    </tr>\n",
       "    <tr>\n",
       "      <th>3197</th>\n",
       "      <td>(Almond Milk Peach Yogurt)</td>\n",
       "      <td>(Almond Milk Blueberry Yogurt)</td>\n",
       "      <td>0.001464</td>\n",
       "      <td>0.001467</td>\n",
       "      <td>0.000703</td>\n",
       "      <td>0.480136</td>\n",
       "      <td>327.306327</td>\n",
       "      <td>0.000701</td>\n",
       "      <td>1.920758</td>\n",
       "    </tr>\n",
       "    <tr>\n",
       "      <th>3194</th>\n",
       "      <td>(Almond Milk Blueberry Yogurt)</td>\n",
       "      <td>(Almond Milk Strawberry Yogurt)</td>\n",
       "      <td>0.001467</td>\n",
       "      <td>0.001779</td>\n",
       "      <td>0.000840</td>\n",
       "      <td>0.572943</td>\n",
       "      <td>322.073808</td>\n",
       "      <td>0.000838</td>\n",
       "      <td>2.337443</td>\n",
       "    </tr>\n",
       "    <tr>\n",
       "      <th>3195</th>\n",
       "      <td>(Almond Milk Strawberry Yogurt)</td>\n",
       "      <td>(Almond Milk Blueberry Yogurt)</td>\n",
       "      <td>0.001779</td>\n",
       "      <td>0.001467</td>\n",
       "      <td>0.000840</td>\n",
       "      <td>0.472460</td>\n",
       "      <td>322.073808</td>\n",
       "      <td>0.000838</td>\n",
       "      <td>1.892811</td>\n",
       "    </tr>\n",
       "    <tr>\n",
       "      <th>7983</th>\n",
       "      <td>(Almond Milk Peach Yogurt)</td>\n",
       "      <td>(Almond Milk Strawberry Yogurt)</td>\n",
       "      <td>0.001464</td>\n",
       "      <td>0.001779</td>\n",
       "      <td>0.000770</td>\n",
       "      <td>0.526238</td>\n",
       "      <td>295.818730</td>\n",
       "      <td>0.000768</td>\n",
       "      <td>2.107007</td>\n",
       "    </tr>\n",
       "  </tbody>\n",
       "</table>\n",
       "</div>"
      ],
      "text/plain": [
       "                          antecedents                      consequents  \\\n",
       "3196   (Almond Milk Blueberry Yogurt)       (Almond Milk Peach Yogurt)   \n",
       "3197       (Almond Milk Peach Yogurt)   (Almond Milk Blueberry Yogurt)   \n",
       "3194   (Almond Milk Blueberry Yogurt)  (Almond Milk Strawberry Yogurt)   \n",
       "3195  (Almond Milk Strawberry Yogurt)   (Almond Milk Blueberry Yogurt)   \n",
       "7983       (Almond Milk Peach Yogurt)  (Almond Milk Strawberry Yogurt)   \n",
       "\n",
       "      antecedent support  consequent support   support  confidence  \\\n",
       "3196            0.001467            0.001464  0.000703    0.479220   \n",
       "3197            0.001464            0.001467  0.000703    0.480136   \n",
       "3194            0.001467            0.001779  0.000840    0.572943   \n",
       "3195            0.001779            0.001467  0.000840    0.472460   \n",
       "7983            0.001464            0.001779  0.000770    0.526238   \n",
       "\n",
       "            lift  leverage  conviction  \n",
       "3196  327.306327  0.000701    1.917384  \n",
       "3197  327.306327  0.000701    1.920758  \n",
       "3194  322.073808  0.000838    2.337443  \n",
       "3195  322.073808  0.000838    1.892811  \n",
       "7983  295.818730  0.000768    2.107007  "
      ]
     },
     "execution_count": 355,
     "metadata": {},
     "output_type": "execute_result"
    }
   ],
   "source": [
    "sorted_rules = rules.sort_values(by=['lift'], ascending=False)\n",
    "relevant_rules = sorted_rules[sorted_rules['lift'] >= 0.8]\n",
    "sorted_rules.head(5)"
   ]
  },
  {
   "cell_type": "code",
   "execution_count": 356,
   "metadata": {},
   "outputs": [
    {
     "name": "stdout",
     "output_type": "stream",
     "text": [
      "The product that appears most in all frequent itemsets is Banana with a count of 781.\n"
     ]
    }
   ],
   "source": [
    "import pandas as pd\n",
    "from collections import Counter\n",
    "\n",
    "# Flatten the frequent itemsets into a list of individual items\n",
    "items = [item for itemset in fi['itemsets'] for item in itemset]\n",
    "\n",
    "# Use Counter to count the occurrences of each item\n",
    "item_counts = Counter(items)\n",
    "\n",
    "# Find the item that appears most frequently\n",
    "most_common_item, count = item_counts.most_common(1)[0]\n",
    "\n",
    "print(f\"The product that appears most in all frequent itemsets is {most_common_item} with a count of {count}.\")\n"
   ]
  },
  {
   "cell_type": "code",
   "execution_count": 357,
   "metadata": {},
   "outputs": [],
   "source": [
    "su = fi.support.unique()#all unique support count\n",
    "#Dictionay storing itemset with same support count key\n",
    "fredic = {}\n",
    "for i in range(len(su)):\n",
    "    inset = list(fi.loc[fi.support ==su[i]]['itemsets'])\n",
    "    fredic[su[i]] = inset\n",
    "\n",
    "#Dictionay storing itemset with  support count <= key\n",
    "fredic2 = {}\n",
    "for i in range(len(su)):\n",
    "    inset2 = list(fi.loc[fi.support<=su[i]]['itemsets']) #returns list of itemsets where support is <= support count in su[:]\n",
    "    fredic2[su[i]] = inset2\n",
    "\n",
    "#Find Closed frequent itemset\n",
    "closed = []\n",
    "#for index, row in fi.iterrows():\n",
    "for index, row in fi.iterrows():\n",
    "    isclose = True\n",
    "    cli = row['itemsets']\n",
    "    cls = row['support']\n",
    "    checkset = fredic[cls]\n",
    "    for i in checkset:\n",
    "        if (cli!=i):\n",
    "            if(frozenset.issubset(cli,i)):\n",
    "                isclose = False\n",
    "                break\n",
    "    \n",
    "    if(isclose):\n",
    "        closed.append(row['itemsets'])\n",
    "    "
   ]
  },
  {
   "cell_type": "code",
   "execution_count": 358,
   "metadata": {},
   "outputs": [],
   "source": [
    "#fredic[SupportCount] = [itemsets with same support]\n",
    "#fredic2[SupportCount] = [itemsets with <= SupportCount]"
   ]
  },
  {
   "cell_type": "code",
   "execution_count": 375,
   "metadata": {},
   "outputs": [],
   "source": [
    "#Find Max frequent itemset\n",
    "maximal = []\n",
    "for index, row in fi.iterrows():\n",
    "    isclose = True\n",
    "    cli = row['itemsets']\n",
    "    cls = row['support']\n",
    "    checkset = fredic2[cls]\n",
    "    for i in checkset:\n",
    "        if (cli!=i):\n",
    "            if(frozenset.issubset(cli,i)):\n",
    "                isclose = False\n",
    "                break\n",
    "    \n",
    "    if(isclose):\n",
    "        maximal.append(row['itemsets'])"
   ]
  },
  {
   "cell_type": "code",
   "execution_count": 360,
   "metadata": {},
   "outputs": [
    {
     "name": "stdout",
     "output_type": "stream",
     "text": [
      "Number of closed itemsets: 8099\n",
      "Number of maximal itemsets: 6870\n"
     ]
    }
   ],
   "source": [
    "print(f\"Number of closed itemsets: {len(closed)}\")\n",
    "print(f\"Number of maximal itemsets: {len(maximal)}\")"
   ]
  },
  {
   "cell_type": "code",
   "execution_count": 361,
   "metadata": {},
   "outputs": [
    {
     "data": {
      "text/html": [
       "<div>\n",
       "<style scoped>\n",
       "    .dataframe tbody tr th:only-of-type {\n",
       "        vertical-align: middle;\n",
       "    }\n",
       "\n",
       "    .dataframe tbody tr th {\n",
       "        vertical-align: top;\n",
       "    }\n",
       "\n",
       "    .dataframe thead th {\n",
       "        text-align: right;\n",
       "    }\n",
       "</style>\n",
       "<table border=\"1\" class=\"dataframe\">\n",
       "  <thead>\n",
       "    <tr style=\"text-align: right;\">\n",
       "      <th></th>\n",
       "      <th>support</th>\n",
       "      <th>itemsets</th>\n",
       "      <th>length</th>\n",
       "      <th>maximal</th>\n",
       "      <th>closed</th>\n",
       "    </tr>\n",
       "  </thead>\n",
       "  <tbody>\n",
       "    <tr>\n",
       "      <th>0</th>\n",
       "      <td>0.000800</td>\n",
       "      <td>(Sparkling Orange Juice &amp; Prickly Pear Beverage)</td>\n",
       "      <td>1</td>\n",
       "      <td>True</td>\n",
       "      <td>True</td>\n",
       "    </tr>\n",
       "    <tr>\n",
       "      <th>1</th>\n",
       "      <td>0.000674</td>\n",
       "      <td>(Salted Caramel Lean Protein &amp; Fiber Bar)</td>\n",
       "      <td>1</td>\n",
       "      <td>True</td>\n",
       "      <td>True</td>\n",
       "    </tr>\n",
       "    <tr>\n",
       "      <th>2</th>\n",
       "      <td>0.002033</td>\n",
       "      <td>(Peanut Butter Cereal)</td>\n",
       "      <td>1</td>\n",
       "      <td>True</td>\n",
       "      <td>True</td>\n",
       "    </tr>\n",
       "    <tr>\n",
       "      <th>3</th>\n",
       "      <td>0.005727</td>\n",
       "      <td>(European Cucumber)</td>\n",
       "      <td>1</td>\n",
       "      <td>False</td>\n",
       "      <td>True</td>\n",
       "    </tr>\n",
       "    <tr>\n",
       "      <th>4</th>\n",
       "      <td>0.000718</td>\n",
       "      <td>(Vegetarian Grain Meat Sausages Italian - 4 CT)</td>\n",
       "      <td>1</td>\n",
       "      <td>True</td>\n",
       "      <td>True</td>\n",
       "    </tr>\n",
       "    <tr>\n",
       "      <th>5</th>\n",
       "      <td>0.001115</td>\n",
       "      <td>(Wild Albacore Tuna No Salt Added)</td>\n",
       "      <td>1</td>\n",
       "      <td>True</td>\n",
       "      <td>True</td>\n",
       "    </tr>\n",
       "    <tr>\n",
       "      <th>6</th>\n",
       "      <td>0.000867</td>\n",
       "      <td>(Organic Rice Vinegar)</td>\n",
       "      <td>1</td>\n",
       "      <td>True</td>\n",
       "      <td>True</td>\n",
       "    </tr>\n",
       "    <tr>\n",
       "      <th>7</th>\n",
       "      <td>0.001356</td>\n",
       "      <td>(English Muffins)</td>\n",
       "      <td>1</td>\n",
       "      <td>True</td>\n",
       "      <td>True</td>\n",
       "    </tr>\n",
       "  </tbody>\n",
       "</table>\n",
       "</div>"
      ],
      "text/plain": [
       "    support                                          itemsets  length  \\\n",
       "0  0.000800  (Sparkling Orange Juice & Prickly Pear Beverage)       1   \n",
       "1  0.000674         (Salted Caramel Lean Protein & Fiber Bar)       1   \n",
       "2  0.002033                            (Peanut Butter Cereal)       1   \n",
       "3  0.005727                               (European Cucumber)       1   \n",
       "4  0.000718   (Vegetarian Grain Meat Sausages Italian - 4 CT)       1   \n",
       "5  0.001115                (Wild Albacore Tuna No Salt Added)       1   \n",
       "6  0.000867                            (Organic Rice Vinegar)       1   \n",
       "7  0.001356                                 (English Muffins)       1   \n",
       "\n",
       "   maximal  closed  \n",
       "0     True    True  \n",
       "1     True    True  \n",
       "2     True    True  \n",
       "3    False    True  \n",
       "4     True    True  \n",
       "5     True    True  \n",
       "6     True    True  \n",
       "7     True    True  "
      ]
     },
     "execution_count": 361,
     "metadata": {},
     "output_type": "execute_result"
    }
   ],
   "source": [
    "fi['maximal'] = fi['itemsets'].apply(lambda x: x in maximal)\n",
    "fi['closed'] = fi['itemsets'].apply(lambda x: x in closed)\n",
    "fi.head(8)"
   ]
  },
  {
   "cell_type": "code",
   "execution_count": 376,
   "metadata": {},
   "outputs": [],
   "source": [
    "#get a subset of dataframe fi with maximal itemsets\n",
    "nonmaximal = fi[~fi['itemsets'].isin(maximal)]"
   ]
  },
  {
   "cell_type": "code",
   "execution_count": 362,
   "metadata": {},
   "outputs": [
    {
     "data": {
      "text/html": [
       "<div>\n",
       "<style scoped>\n",
       "    .dataframe tbody tr th:only-of-type {\n",
       "        vertical-align: middle;\n",
       "    }\n",
       "\n",
       "    .dataframe tbody tr th {\n",
       "        vertical-align: top;\n",
       "    }\n",
       "\n",
       "    .dataframe thead th {\n",
       "        text-align: right;\n",
       "    }\n",
       "</style>\n",
       "<table border=\"1\" class=\"dataframe\">\n",
       "  <thead>\n",
       "    <tr style=\"text-align: right;\">\n",
       "      <th></th>\n",
       "      <th>support</th>\n",
       "      <th>itemsets</th>\n",
       "      <th>length</th>\n",
       "      <th>maximal</th>\n",
       "      <th>closed</th>\n",
       "    </tr>\n",
       "  </thead>\n",
       "  <tbody>\n",
       "    <tr>\n",
       "      <th>0</th>\n",
       "      <td>0.000800</td>\n",
       "      <td>(Sparkling Orange Juice &amp; Prickly Pear Beverage)</td>\n",
       "      <td>1</td>\n",
       "      <td>True</td>\n",
       "      <td>True</td>\n",
       "    </tr>\n",
       "    <tr>\n",
       "      <th>1</th>\n",
       "      <td>0.000674</td>\n",
       "      <td>(Salted Caramel Lean Protein &amp; Fiber Bar)</td>\n",
       "      <td>1</td>\n",
       "      <td>True</td>\n",
       "      <td>True</td>\n",
       "    </tr>\n",
       "    <tr>\n",
       "      <th>2</th>\n",
       "      <td>0.002033</td>\n",
       "      <td>(Peanut Butter Cereal)</td>\n",
       "      <td>1</td>\n",
       "      <td>True</td>\n",
       "      <td>True</td>\n",
       "    </tr>\n",
       "    <tr>\n",
       "      <th>4</th>\n",
       "      <td>0.000718</td>\n",
       "      <td>(Vegetarian Grain Meat Sausages Italian - 4 CT)</td>\n",
       "      <td>1</td>\n",
       "      <td>True</td>\n",
       "      <td>True</td>\n",
       "    </tr>\n",
       "    <tr>\n",
       "      <th>5</th>\n",
       "      <td>0.001115</td>\n",
       "      <td>(Wild Albacore Tuna No Salt Added)</td>\n",
       "      <td>1</td>\n",
       "      <td>True</td>\n",
       "      <td>True</td>\n",
       "    </tr>\n",
       "    <tr>\n",
       "      <th>...</th>\n",
       "      <td>...</td>\n",
       "      <td>...</td>\n",
       "      <td>...</td>\n",
       "      <td>...</td>\n",
       "      <td>...</td>\n",
       "    </tr>\n",
       "    <tr>\n",
       "      <th>8094</th>\n",
       "      <td>0.000624</td>\n",
       "      <td>(Bag of Organic Bananas, Organic Hass Avocado,...</td>\n",
       "      <td>4</td>\n",
       "      <td>True</td>\n",
       "      <td>True</td>\n",
       "    </tr>\n",
       "    <tr>\n",
       "      <th>8095</th>\n",
       "      <td>0.000725</td>\n",
       "      <td>(Organic Raspberries, Bag of Organic Bananas, ...</td>\n",
       "      <td>4</td>\n",
       "      <td>True</td>\n",
       "      <td>True</td>\n",
       "    </tr>\n",
       "    <tr>\n",
       "      <th>8096</th>\n",
       "      <td>0.000618</td>\n",
       "      <td>(Banana, Organic Avocado, Organic Baby Spinach...</td>\n",
       "      <td>4</td>\n",
       "      <td>True</td>\n",
       "      <td>True</td>\n",
       "    </tr>\n",
       "    <tr>\n",
       "      <th>8097</th>\n",
       "      <td>0.000714</td>\n",
       "      <td>(Banana, Organic Avocado, Organic Baby Spinach...</td>\n",
       "      <td>4</td>\n",
       "      <td>True</td>\n",
       "      <td>True</td>\n",
       "    </tr>\n",
       "    <tr>\n",
       "      <th>8098</th>\n",
       "      <td>0.000706</td>\n",
       "      <td>(Banana, Organic Avocado, Limes, Large Lemon)</td>\n",
       "      <td>4</td>\n",
       "      <td>True</td>\n",
       "      <td>True</td>\n",
       "    </tr>\n",
       "  </tbody>\n",
       "</table>\n",
       "<p>6870 rows × 5 columns</p>\n",
       "</div>"
      ],
      "text/plain": [
       "       support                                           itemsets  length  \\\n",
       "0     0.000800   (Sparkling Orange Juice & Prickly Pear Beverage)       1   \n",
       "1     0.000674          (Salted Caramel Lean Protein & Fiber Bar)       1   \n",
       "2     0.002033                             (Peanut Butter Cereal)       1   \n",
       "4     0.000718    (Vegetarian Grain Meat Sausages Italian - 4 CT)       1   \n",
       "5     0.001115                 (Wild Albacore Tuna No Salt Added)       1   \n",
       "...        ...                                                ...     ...   \n",
       "8094  0.000624  (Bag of Organic Bananas, Organic Hass Avocado,...       4   \n",
       "8095  0.000725  (Organic Raspberries, Bag of Organic Bananas, ...       4   \n",
       "8096  0.000618  (Banana, Organic Avocado, Organic Baby Spinach...       4   \n",
       "8097  0.000714  (Banana, Organic Avocado, Organic Baby Spinach...       4   \n",
       "8098  0.000706      (Banana, Organic Avocado, Limes, Large Lemon)       4   \n",
       "\n",
       "      maximal  closed  \n",
       "0        True    True  \n",
       "1        True    True  \n",
       "2        True    True  \n",
       "4        True    True  \n",
       "5        True    True  \n",
       "...       ...     ...  \n",
       "8094     True    True  \n",
       "8095     True    True  \n",
       "8096     True    True  \n",
       "8097     True    True  \n",
       "8098     True    True  \n",
       "\n",
       "[6870 rows x 5 columns]"
      ]
     },
     "execution_count": 362,
     "metadata": {},
     "output_type": "execute_result"
    }
   ],
   "source": [
    "#get a subset of dataframe fi with maximal itemsets\n",
    "maximal = fi[fi['itemsets'].isin(maximal)]\n",
    "maximal"
   ]
  },
  {
   "attachments": {},
   "cell_type": "markdown",
   "metadata": {},
   "source": [
    "Get a subset of the rules that are part of the Maximal itemsets - still working on this"
   ]
  },
  {
   "cell_type": "code",
   "execution_count": 363,
   "metadata": {},
   "outputs": [],
   "source": [
    "maximal_itemsets = list(maximal['itemsets'])\n"
   ]
  },
  {
   "cell_type": "code",
   "execution_count": 364,
   "metadata": {},
   "outputs": [],
   "source": [
    "ants = list(set(rules[\"antecedents\"]))\n",
    "cons = list(set(rules[\"consequents\"]))"
   ]
  },
  {
   "cell_type": "code",
   "execution_count": 365,
   "metadata": {},
   "outputs": [
    {
     "name": "stdout",
     "output_type": "stream",
     "text": [
      "Number of maximal antecedents: 0\n",
      "Number of maximal consequents: 0\n"
     ]
    }
   ],
   "source": [
    "#find out if any of the maximal itemsets are in the antecedents or consequents of the rules\n",
    "maximal_antecedents = []\n",
    "maximal_consequents = []\n",
    "for i in range(len(maximal_itemsets)):\n",
    "    if(maximal_itemsets[i] in ants):\n",
    "        maximal_antecedents.append(maximal_itemsets[i])\n",
    "    if(maximal_itemsets[i] in cons):\n",
    "        maximal_consequents.append(maximal_itemsets[i])\n",
    "\n",
    "print(f\"Number of maximal antecedents: {len(maximal_antecedents)}\")\n",
    "print(f\"Number of maximal consequents: {len(maximal_consequents)}\")"
   ]
  },
  {
   "cell_type": "code",
   "execution_count": 368,
   "metadata": {},
   "outputs": [
    {
     "data": {
      "text/plain": [
       "1229"
      ]
     },
     "execution_count": 368,
     "metadata": {},
     "output_type": "execute_result"
    }
   ],
   "source": [
    "len(ants)"
   ]
  },
  {
   "cell_type": "code",
   "execution_count": 369,
   "metadata": {},
   "outputs": [
    {
     "data": {
      "text/plain": [
       "1229"
      ]
     },
     "execution_count": 369,
     "metadata": {},
     "output_type": "execute_result"
    }
   ],
   "source": [
    "len(cons)"
   ]
  },
  {
   "cell_type": "code",
   "execution_count": 377,
   "metadata": {},
   "outputs": [
    {
     "data": {
      "text/html": [
       "<div>\n",
       "<style scoped>\n",
       "    .dataframe tbody tr th:only-of-type {\n",
       "        vertical-align: middle;\n",
       "    }\n",
       "\n",
       "    .dataframe tbody tr th {\n",
       "        vertical-align: top;\n",
       "    }\n",
       "\n",
       "    .dataframe thead th {\n",
       "        text-align: right;\n",
       "    }\n",
       "</style>\n",
       "<table border=\"1\" class=\"dataframe\">\n",
       "  <thead>\n",
       "    <tr style=\"text-align: right;\">\n",
       "      <th></th>\n",
       "      <th>support</th>\n",
       "      <th>itemsets</th>\n",
       "      <th>length</th>\n",
       "      <th>maximal</th>\n",
       "      <th>closed</th>\n",
       "    </tr>\n",
       "  </thead>\n",
       "  <tbody>\n",
       "    <tr>\n",
       "      <th>3</th>\n",
       "      <td>0.005727</td>\n",
       "      <td>(European Cucumber)</td>\n",
       "      <td>1</td>\n",
       "      <td>False</td>\n",
       "      <td>True</td>\n",
       "    </tr>\n",
       "    <tr>\n",
       "      <th>14</th>\n",
       "      <td>0.011133</td>\n",
       "      <td>(Soda)</td>\n",
       "      <td>1</td>\n",
       "      <td>False</td>\n",
       "      <td>True</td>\n",
       "    </tr>\n",
       "    <tr>\n",
       "      <th>19</th>\n",
       "      <td>0.007434</td>\n",
       "      <td>(Cantaloupe)</td>\n",
       "      <td>1</td>\n",
       "      <td>False</td>\n",
       "      <td>True</td>\n",
       "    </tr>\n",
       "    <tr>\n",
       "      <th>27</th>\n",
       "      <td>0.004809</td>\n",
       "      <td>(Organic Whole Grassmilk Milk)</td>\n",
       "      <td>1</td>\n",
       "      <td>False</td>\n",
       "      <td>True</td>\n",
       "    </tr>\n",
       "    <tr>\n",
       "      <th>29</th>\n",
       "      <td>0.002436</td>\n",
       "      <td>(Cheerios Cereal)</td>\n",
       "      <td>1</td>\n",
       "      <td>False</td>\n",
       "      <td>True</td>\n",
       "    </tr>\n",
       "    <tr>\n",
       "      <th>...</th>\n",
       "      <td>...</td>\n",
       "      <td>...</td>\n",
       "      <td>...</td>\n",
       "      <td>...</td>\n",
       "      <td>...</td>\n",
       "    </tr>\n",
       "    <tr>\n",
       "      <th>7900</th>\n",
       "      <td>0.001821</td>\n",
       "      <td>(Organic Avocado, Organic Baby Spinach, Large ...</td>\n",
       "      <td>3</td>\n",
       "      <td>False</td>\n",
       "      <td>True</td>\n",
       "    </tr>\n",
       "    <tr>\n",
       "      <th>7961</th>\n",
       "      <td>0.002409</td>\n",
       "      <td>(Banana, Limes, Large Lemon)</td>\n",
       "      <td>3</td>\n",
       "      <td>False</td>\n",
       "      <td>True</td>\n",
       "    </tr>\n",
       "    <tr>\n",
       "      <th>7962</th>\n",
       "      <td>0.002261</td>\n",
       "      <td>(Banana, Organic Avocado, Limes)</td>\n",
       "      <td>3</td>\n",
       "      <td>False</td>\n",
       "      <td>True</td>\n",
       "    </tr>\n",
       "    <tr>\n",
       "      <th>8033</th>\n",
       "      <td>0.002620</td>\n",
       "      <td>(Banana, Organic Avocado, Large Lemon)</td>\n",
       "      <td>3</td>\n",
       "      <td>False</td>\n",
       "      <td>True</td>\n",
       "    </tr>\n",
       "    <tr>\n",
       "      <th>8066</th>\n",
       "      <td>0.001927</td>\n",
       "      <td>(Organic Avocado, Limes, Large Lemon)</td>\n",
       "      <td>3</td>\n",
       "      <td>False</td>\n",
       "      <td>True</td>\n",
       "    </tr>\n",
       "  </tbody>\n",
       "</table>\n",
       "<p>1229 rows × 5 columns</p>\n",
       "</div>"
      ],
      "text/plain": [
       "       support                                           itemsets  length  \\\n",
       "3     0.005727                                (European Cucumber)       1   \n",
       "14    0.011133                                             (Soda)       1   \n",
       "19    0.007434                                       (Cantaloupe)       1   \n",
       "27    0.004809                     (Organic Whole Grassmilk Milk)       1   \n",
       "29    0.002436                                  (Cheerios Cereal)       1   \n",
       "...        ...                                                ...     ...   \n",
       "7900  0.001821  (Organic Avocado, Organic Baby Spinach, Large ...       3   \n",
       "7961  0.002409                       (Banana, Limes, Large Lemon)       3   \n",
       "7962  0.002261                   (Banana, Organic Avocado, Limes)       3   \n",
       "8033  0.002620             (Banana, Organic Avocado, Large Lemon)       3   \n",
       "8066  0.001927              (Organic Avocado, Limes, Large Lemon)       3   \n",
       "\n",
       "      maximal  closed  \n",
       "3       False    True  \n",
       "14      False    True  \n",
       "19      False    True  \n",
       "27      False    True  \n",
       "29      False    True  \n",
       "...       ...     ...  \n",
       "7900    False    True  \n",
       "7961    False    True  \n",
       "7962    False    True  \n",
       "8033    False    True  \n",
       "8066    False    True  \n",
       "\n",
       "[1229 rows x 5 columns]"
      ]
     },
     "execution_count": 377,
     "metadata": {},
     "output_type": "execute_result"
    }
   ],
   "source": [
    "nonmaximal"
   ]
  },
  {
   "cell_type": "code",
   "execution_count": 384,
   "metadata": {},
   "outputs": [
    {
     "data": {
      "text/plain": [
       "True"
      ]
     },
     "execution_count": 384,
     "metadata": {},
     "output_type": "execute_result"
    }
   ],
   "source": [
    "nonmaximal[\"itemsets\"][14] in cons"
   ]
  },
  {
   "cell_type": "code",
   "execution_count": null,
   "metadata": {},
   "outputs": [],
   "source": []
  },
  {
   "cell_type": "code",
   "execution_count": null,
   "metadata": {},
   "outputs": [],
   "source": []
  },
  {
   "attachments": {},
   "cell_type": "markdown",
   "metadata": {},
   "source": [
    "Other approach for finding maximal itemsets and rules:"
   ]
  },
  {
   "cell_type": "code",
   "execution_count": 211,
   "metadata": {},
   "outputs": [],
   "source": [
    "from mlxtend.frequent_patterns import apriori, association_rules\n",
    "import itertools\n",
    "\n",
    "min_confidence= 0.3\n",
    "min_lift = 1.0\n",
    "# Generate frequent itemsets\n",
    "frequent_itemsets = fi\n",
    "\n",
    "# Generate maximal itemsets\n",
    "maximal_itemsets = frequent_itemsets.copy()\n",
    "for i, itemset in frequent_itemsets.iterrows():\n",
    "    if not any(frequent_itemsets['itemsets'].apply(lambda x: x.issuperset(itemset['itemsets']) and x != itemset['itemsets'])):\n",
    "        continue\n",
    "    maximal_itemsets = maximal_itemsets.drop(i)\n",
    "\n"
   ]
  },
  {
   "cell_type": "code",
   "execution_count": 212,
   "metadata": {},
   "outputs": [
    {
     "data": {
      "text/plain": [
       "6870"
      ]
     },
     "execution_count": 212,
     "metadata": {},
     "output_type": "execute_result"
    }
   ],
   "source": [
    "len(maximal_itemsets)"
   ]
  },
  {
   "cell_type": "code",
   "execution_count": 229,
   "metadata": {},
   "outputs": [],
   "source": [
    "# Generate association rules for each maximal itemset\n",
    "maximal_rules = []\n",
    "for i, itemset in maximal_itemsets.iterrows():\n",
    "    itemset_support = itemset['support']\n",
    "    itemset_items = itemset['itemsets']\n",
    "    itemset_size = len(itemset_items)\n",
    "    \n",
    "    # Generate all possible subsets of the itemset\n",
    "    subsets = [frozenset(x) for x in set(itertools.combinations(itemset_items, itemset_size-1))]\n",
    "    \n",
    "        # Generate association rules for each subset\n",
    "    if len(subsets) > 1:\n",
    "        for subset in subsets:\n",
    "            antecedent_support = fi.loc[fi['itemsets']==subset, 'support'].values[0] #\n",
    "            consequent_support = itemset_support\n",
    "            rule_support = itemset_support\n",
    "            confidence = rule_support / antecedent_support\n",
    "            lift = confidence / (consequent_support / len(orders_list))\n",
    "            \n",
    "            # Add rule to the list if it meets the confidence and lift thresholds\n",
    "            if confidence >= min_confidence and lift >= min_lift:\n",
    "                maximal_rules.append({'antecedent': subset, 'consequent': itemset_items-subset, 'support': rule_support, 'confidence': confidence, 'lift': lift})\n"
   ]
  },
  {
   "cell_type": "code",
   "execution_count": 228,
   "metadata": {},
   "outputs": [
    {
     "data": {
      "text/html": [
       "<div>\n",
       "<style scoped>\n",
       "    .dataframe tbody tr th:only-of-type {\n",
       "        vertical-align: middle;\n",
       "    }\n",
       "\n",
       "    .dataframe tbody tr th {\n",
       "        vertical-align: top;\n",
       "    }\n",
       "\n",
       "    .dataframe thead th {\n",
       "        text-align: right;\n",
       "    }\n",
       "</style>\n",
       "<table border=\"1\" class=\"dataframe\">\n",
       "  <thead>\n",
       "    <tr style=\"text-align: right;\">\n",
       "      <th></th>\n",
       "      <th>antecedent</th>\n",
       "      <th>consequent</th>\n",
       "      <th>support</th>\n",
       "      <th>confidence</th>\n",
       "      <th>lift</th>\n",
       "    </tr>\n",
       "  </thead>\n",
       "  <tbody>\n",
       "    <tr>\n",
       "      <th>0</th>\n",
       "      <td>(Zero Calorie Cola)</td>\n",
       "      <td>(Soda)</td>\n",
       "      <td>0.001235</td>\n",
       "      <td>0.463893</td>\n",
       "      <td>1.207690e+09</td>\n",
       "    </tr>\n",
       "    <tr>\n",
       "      <th>1</th>\n",
       "      <td>(Garnet Sweet Potato (Yam)</td>\n",
       "      <td>(Banana)</td>\n",
       "      <td>0.000656</td>\n",
       "      <td>0.313140</td>\n",
       "      <td>1.534583e+09</td>\n",
       "    </tr>\n",
       "    <tr>\n",
       "      <th>2</th>\n",
       "      <td>(Mango Chunks)</td>\n",
       "      <td>(Banana)</td>\n",
       "      <td>0.001745</td>\n",
       "      <td>0.316911</td>\n",
       "      <td>5.839547e+08</td>\n",
       "    </tr>\n",
       "    <tr>\n",
       "      <th>3</th>\n",
       "      <td>(Cherry Pomegranate Greek Yogurt)</td>\n",
       "      <td>(Banana)</td>\n",
       "      <td>0.000666</td>\n",
       "      <td>0.312336</td>\n",
       "      <td>1.507060e+09</td>\n",
       "    </tr>\n",
       "    <tr>\n",
       "      <th>4</th>\n",
       "      <td>(Organic Greek Lowfat Yogurt With Blueberries)</td>\n",
       "      <td>(Organic Greek Lowfat Yogurt With Strawberries)</td>\n",
       "      <td>0.000609</td>\n",
       "      <td>0.410176</td>\n",
       "      <td>2.164032e+09</td>\n",
       "    </tr>\n",
       "    <tr>\n",
       "      <th>...</th>\n",
       "      <td>...</td>\n",
       "      <td>...</td>\n",
       "      <td>...</td>\n",
       "      <td>...</td>\n",
       "      <td>...</td>\n",
       "    </tr>\n",
       "    <tr>\n",
       "      <th>448</th>\n",
       "      <td>(Organic Avocado, Organic Baby Spinach, Organi...</td>\n",
       "      <td>(Banana)</td>\n",
       "      <td>0.000618</td>\n",
       "      <td>0.382602</td>\n",
       "      <td>1.989110e+09</td>\n",
       "    </tr>\n",
       "    <tr>\n",
       "      <th>449</th>\n",
       "      <td>(Organic Avocado, Organic Baby Spinach, Large ...</td>\n",
       "      <td>(Banana)</td>\n",
       "      <td>0.000714</td>\n",
       "      <td>0.392277</td>\n",
       "      <td>1.765832e+09</td>\n",
       "    </tr>\n",
       "    <tr>\n",
       "      <th>450</th>\n",
       "      <td>(Banana, Organic Baby Spinach, Large Lemon)</td>\n",
       "      <td>(Organic Avocado)</td>\n",
       "      <td>0.000714</td>\n",
       "      <td>0.317083</td>\n",
       "      <td>1.427346e+09</td>\n",
       "    </tr>\n",
       "    <tr>\n",
       "      <th>451</th>\n",
       "      <td>(Organic Avocado, Banana, Limes)</td>\n",
       "      <td>(Large Lemon)</td>\n",
       "      <td>0.000706</td>\n",
       "      <td>0.312147</td>\n",
       "      <td>1.421848e+09</td>\n",
       "    </tr>\n",
       "    <tr>\n",
       "      <th>452</th>\n",
       "      <td>(Organic Avocado, Limes, Large Lemon)</td>\n",
       "      <td>(Banana)</td>\n",
       "      <td>0.000706</td>\n",
       "      <td>0.366263</td>\n",
       "      <td>1.668348e+09</td>\n",
       "    </tr>\n",
       "  </tbody>\n",
       "</table>\n",
       "<p>453 rows × 5 columns</p>\n",
       "</div>"
      ],
      "text/plain": [
       "                                            antecedent  \\\n",
       "0                                  (Zero Calorie Cola)   \n",
       "1                           (Garnet Sweet Potato (Yam)   \n",
       "2                                       (Mango Chunks)   \n",
       "3                    (Cherry Pomegranate Greek Yogurt)   \n",
       "4       (Organic Greek Lowfat Yogurt With Blueberries)   \n",
       "..                                                 ...   \n",
       "448  (Organic Avocado, Organic Baby Spinach, Organi...   \n",
       "449  (Organic Avocado, Organic Baby Spinach, Large ...   \n",
       "450        (Banana, Organic Baby Spinach, Large Lemon)   \n",
       "451                   (Organic Avocado, Banana, Limes)   \n",
       "452              (Organic Avocado, Limes, Large Lemon)   \n",
       "\n",
       "                                          consequent   support  confidence  \\\n",
       "0                                             (Soda)  0.001235    0.463893   \n",
       "1                                           (Banana)  0.000656    0.313140   \n",
       "2                                           (Banana)  0.001745    0.316911   \n",
       "3                                           (Banana)  0.000666    0.312336   \n",
       "4    (Organic Greek Lowfat Yogurt With Strawberries)  0.000609    0.410176   \n",
       "..                                               ...       ...         ...   \n",
       "448                                         (Banana)  0.000618    0.382602   \n",
       "449                                         (Banana)  0.000714    0.392277   \n",
       "450                                (Organic Avocado)  0.000714    0.317083   \n",
       "451                                    (Large Lemon)  0.000706    0.312147   \n",
       "452                                         (Banana)  0.000706    0.366263   \n",
       "\n",
       "             lift  \n",
       "0    1.207690e+09  \n",
       "1    1.534583e+09  \n",
       "2    5.839547e+08  \n",
       "3    1.507060e+09  \n",
       "4    2.164032e+09  \n",
       "..            ...  \n",
       "448  1.989110e+09  \n",
       "449  1.765832e+09  \n",
       "450  1.427346e+09  \n",
       "451  1.421848e+09  \n",
       "452  1.668348e+09  \n",
       "\n",
       "[453 rows x 5 columns]"
      ]
     },
     "execution_count": 228,
     "metadata": {},
     "output_type": "execute_result"
    }
   ],
   "source": [
    "max_rules = pd.DataFrame(maximal_rules, columns=['antecedent', 'consequent', 'support', 'confidence', 'lift'])\n",
    "max_rules"
   ]
  },
  {
   "cell_type": "code",
   "execution_count": null,
   "metadata": {},
   "outputs": [],
   "source": []
  }
 ],
 "metadata": {
  "kernelspec": {
   "display_name": "Python 3 (ipykernel)",
   "language": "python",
   "name": "python3"
  },
  "language_info": {
   "codemirror_mode": {
    "name": "ipython",
    "version": 3
   },
   "file_extension": ".py",
   "mimetype": "text/x-python",
   "name": "python",
   "nbconvert_exporter": "python",
   "pygments_lexer": "ipython3",
   "version": "3.9.13"
  },
  "vscode": {
   "interpreter": {
    "hash": "57dbe44eb74a19d18f388e4d9fafc4d32a78d1722d572d14a517bc61ad3dae60"
   }
  }
 },
 "nbformat": 4,
 "nbformat_minor": 2
}
